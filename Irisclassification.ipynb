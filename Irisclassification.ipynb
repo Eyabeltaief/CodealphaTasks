{
 "cells": [
  {
   "cell_type": "code",
   "execution_count": 1,
   "id": "05cc73a0",
   "metadata": {
    "execution": {
     "iopub.execute_input": "2024-09-11T09:47:01.133825Z",
     "iopub.status.busy": "2024-09-11T09:47:01.133314Z",
     "iopub.status.idle": "2024-09-11T09:47:03.501916Z",
     "shell.execute_reply": "2024-09-11T09:47:03.500632Z"
    },
    "papermill": {
     "duration": 2.381301,
     "end_time": "2024-09-11T09:47:03.504890",
     "exception": false,
     "start_time": "2024-09-11T09:47:01.123589",
     "status": "completed"
    },
    "tags": []
   },
   "outputs": [],
   "source": [
    "import warnings\n",
    "warnings.filterwarnings('ignore')\n",
    "import pandas as pd\n",
    "import matplotlib.pyplot as plt\n",
    "%matplotlib inline\n",
    "import seaborn as sns\n",
    "sns.set(style=\"white\",color_codes=True)"
   ]
  },
  {
   "cell_type": "code",
   "execution_count": 2,
   "id": "5f2cf6e5",
   "metadata": {
    "execution": {
     "iopub.execute_input": "2024-09-11T09:47:03.522400Z",
     "iopub.status.busy": "2024-09-11T09:47:03.521802Z",
     "iopub.status.idle": "2024-09-11T09:47:03.571754Z",
     "shell.execute_reply": "2024-09-11T09:47:03.570266Z"
    },
    "papermill": {
     "duration": 0.062259,
     "end_time": "2024-09-11T09:47:03.574572",
     "exception": false,
     "start_time": "2024-09-11T09:47:03.512313",
     "status": "completed"
    },
    "tags": []
   },
   "outputs": [
    {
     "data": {
      "text/html": [
       "<div>\n",
       "<style scoped>\n",
       "    .dataframe tbody tr th:only-of-type {\n",
       "        vertical-align: middle;\n",
       "    }\n",
       "\n",
       "    .dataframe tbody tr th {\n",
       "        vertical-align: top;\n",
       "    }\n",
       "\n",
       "    .dataframe thead th {\n",
       "        text-align: right;\n",
       "    }\n",
       "</style>\n",
       "<table border=\"1\" class=\"dataframe\">\n",
       "  <thead>\n",
       "    <tr style=\"text-align: right;\">\n",
       "      <th></th>\n",
       "      <th>Id</th>\n",
       "      <th>SepalLengthCm</th>\n",
       "      <th>SepalWidthCm</th>\n",
       "      <th>PetalLengthCm</th>\n",
       "      <th>PetalWidthCm</th>\n",
       "      <th>Species</th>\n",
       "    </tr>\n",
       "  </thead>\n",
       "  <tbody>\n",
       "    <tr>\n",
       "      <th>0</th>\n",
       "      <td>1</td>\n",
       "      <td>5.1</td>\n",
       "      <td>3.5</td>\n",
       "      <td>1.4</td>\n",
       "      <td>0.2</td>\n",
       "      <td>Iris-setosa</td>\n",
       "    </tr>\n",
       "    <tr>\n",
       "      <th>1</th>\n",
       "      <td>2</td>\n",
       "      <td>4.9</td>\n",
       "      <td>3.0</td>\n",
       "      <td>1.4</td>\n",
       "      <td>0.2</td>\n",
       "      <td>Iris-setosa</td>\n",
       "    </tr>\n",
       "    <tr>\n",
       "      <th>2</th>\n",
       "      <td>3</td>\n",
       "      <td>4.7</td>\n",
       "      <td>3.2</td>\n",
       "      <td>1.3</td>\n",
       "      <td>0.2</td>\n",
       "      <td>Iris-setosa</td>\n",
       "    </tr>\n",
       "    <tr>\n",
       "      <th>3</th>\n",
       "      <td>4</td>\n",
       "      <td>4.6</td>\n",
       "      <td>3.1</td>\n",
       "      <td>1.5</td>\n",
       "      <td>0.2</td>\n",
       "      <td>Iris-setosa</td>\n",
       "    </tr>\n",
       "    <tr>\n",
       "      <th>4</th>\n",
       "      <td>5</td>\n",
       "      <td>5.0</td>\n",
       "      <td>3.6</td>\n",
       "      <td>1.4</td>\n",
       "      <td>0.2</td>\n",
       "      <td>Iris-setosa</td>\n",
       "    </tr>\n",
       "  </tbody>\n",
       "</table>\n",
       "</div>"
      ],
      "text/plain": [
       "   Id  SepalLengthCm  SepalWidthCm  PetalLengthCm  PetalWidthCm      Species\n",
       "0   1            5.1           3.5            1.4           0.2  Iris-setosa\n",
       "1   2            4.9           3.0            1.4           0.2  Iris-setosa\n",
       "2   3            4.7           3.2            1.3           0.2  Iris-setosa\n",
       "3   4            4.6           3.1            1.5           0.2  Iris-setosa\n",
       "4   5            5.0           3.6            1.4           0.2  Iris-setosa"
      ]
     },
     "execution_count": 2,
     "metadata": {},
     "output_type": "execute_result"
    }
   ],
   "source": [
    "iris=pd.read_csv(\"/kaggle/input/iriscsv/Iris.csv\")\n",
    "iris.head()"
   ]
  },
  {
   "cell_type": "code",
   "execution_count": 3,
   "id": "1a3ad59f",
   "metadata": {
    "execution": {
     "iopub.execute_input": "2024-09-11T09:47:03.592474Z",
     "iopub.status.busy": "2024-09-11T09:47:03.591353Z",
     "iopub.status.idle": "2024-09-11T09:47:03.606573Z",
     "shell.execute_reply": "2024-09-11T09:47:03.605222Z"
    },
    "papermill": {
     "duration": 0.026993,
     "end_time": "2024-09-11T09:47:03.609238",
     "exception": false,
     "start_time": "2024-09-11T09:47:03.582245",
     "status": "completed"
    },
    "tags": []
   },
   "outputs": [
    {
     "data": {
      "text/plain": [
       "Species\n",
       "Iris-setosa        50\n",
       "Iris-versicolor    50\n",
       "Iris-virginica     50\n",
       "Name: count, dtype: int64"
      ]
     },
     "execution_count": 3,
     "metadata": {},
     "output_type": "execute_result"
    }
   ],
   "source": [
    "iris[\"Species\"].value_counts()"
   ]
  },
  {
   "cell_type": "code",
   "execution_count": 4,
   "id": "87b92ab5",
   "metadata": {
    "execution": {
     "iopub.execute_input": "2024-09-11T09:47:03.626717Z",
     "iopub.status.busy": "2024-09-11T09:47:03.626254Z",
     "iopub.status.idle": "2024-09-11T09:47:04.513992Z",
     "shell.execute_reply": "2024-09-11T09:47:04.512721Z"
    },
    "papermill": {
     "duration": 0.899914,
     "end_time": "2024-09-11T09:47:04.517024",
     "exception": false,
     "start_time": "2024-09-11T09:47:03.617110",
     "status": "completed"
    },
    "tags": []
   },
   "outputs": [
    {
     "data": {
      "text/plain": [
       "<seaborn.axisgrid.FacetGrid at 0x79d6e3db81c0>"
      ]
     },
     "execution_count": 4,
     "metadata": {},
     "output_type": "execute_result"
    },
    {
     "data": {
      "image/png": "[encoded data removed]",
      "text/plain": [
       "<Figure size 458.25x300 with 1 Axes>"
      ]
     },
     "metadata": {},
     "output_type": "display_data"
    }
   ],
   "source": [
    "sns.FacetGrid(iris,hue=\"Species\",height=3).map(plt.scatter,\"PetalLengthCm\",\"SepalWidthCm\").add_legend()"
   ]
  },
  {
   "cell_type": "code",
   "execution_count": null,
   "id": "848a72c8",
   "metadata": {
    "papermill": {
     "duration": 0.008597,
     "end_time": "2024-09-11T09:47:04.534024",
     "exception": false,
     "start_time": "2024-09-11T09:47:04.525427",
     "status": "completed"
    },
    "tags": []
   },
   "outputs": [],
   "source": []
  },
  {
   "cell_type": "code",
   "execution_count": 5,
   "id": "d60043c3",
   "metadata": {
    "execution": {
     "iopub.execute_input": "2024-09-11T09:47:04.552608Z",
     "iopub.status.busy": "2024-09-11T09:47:04.552107Z",
     "iopub.status.idle": "2024-09-11T09:47:04.557877Z",
     "shell.execute_reply": "2024-09-11T09:47:04.556812Z"
    },
    "papermill": {
     "duration": 0.018078,
     "end_time": "2024-09-11T09:47:04.560452",
     "exception": false,
     "start_time": "2024-09-11T09:47:04.542374",
     "status": "completed"
    },
    "tags": []
   },
   "outputs": [],
   "source": [
    "flower_mapping={\"Iris-setosa\":0,\"Iris-versicolor\":1,    \n",
    "\"Iris-virginica\":2}"
   ]
  },
  {
   "cell_type": "code",
   "execution_count": 6,
   "id": "365d4ee8",
   "metadata": {
    "execution": {
     "iopub.execute_input": "2024-09-11T09:47:04.579199Z",
     "iopub.status.busy": "2024-09-11T09:47:04.578731Z",
     "iopub.status.idle": "2024-09-11T09:47:04.586172Z",
     "shell.execute_reply": "2024-09-11T09:47:04.584893Z"
    },
    "papermill": {
     "duration": 0.020259,
     "end_time": "2024-09-11T09:47:04.589032",
     "exception": false,
     "start_time": "2024-09-11T09:47:04.568773",
     "status": "completed"
    },
    "tags": []
   },
   "outputs": [],
   "source": [
    "iris[\"Species\"]=iris[\"Species\"].map(flower_mapping)"
   ]
  },
  {
   "cell_type": "code",
   "execution_count": 7,
   "id": "f22df2df",
   "metadata": {
    "execution": {
     "iopub.execute_input": "2024-09-11T09:47:04.607876Z",
     "iopub.status.busy": "2024-09-11T09:47:04.607238Z",
     "iopub.status.idle": "2024-09-11T09:47:04.624310Z",
     "shell.execute_reply": "2024-09-11T09:47:04.622894Z"
    },
    "papermill": {
     "duration": 0.029371,
     "end_time": "2024-09-11T09:47:04.626945",
     "exception": false,
     "start_time": "2024-09-11T09:47:04.597574",
     "status": "completed"
    },
    "tags": []
   },
   "outputs": [
    {
     "data": {
      "text/html": [
       "<div>\n",
       "<style scoped>\n",
       "    .dataframe tbody tr th:only-of-type {\n",
       "        vertical-align: middle;\n",
       "    }\n",
       "\n",
       "    .dataframe tbody tr th {\n",
       "        vertical-align: top;\n",
       "    }\n",
       "\n",
       "    .dataframe thead th {\n",
       "        text-align: right;\n",
       "    }\n",
       "</style>\n",
       "<table border=\"1\" class=\"dataframe\">\n",
       "  <thead>\n",
       "    <tr style=\"text-align: right;\">\n",
       "      <th></th>\n",
       "      <th>Id</th>\n",
       "      <th>SepalLengthCm</th>\n",
       "      <th>SepalWidthCm</th>\n",
       "      <th>PetalLengthCm</th>\n",
       "      <th>PetalWidthCm</th>\n",
       "      <th>Species</th>\n",
       "    </tr>\n",
       "  </thead>\n",
       "  <tbody>\n",
       "    <tr>\n",
       "      <th>0</th>\n",
       "      <td>1</td>\n",
       "      <td>5.1</td>\n",
       "      <td>3.5</td>\n",
       "      <td>1.4</td>\n",
       "      <td>0.2</td>\n",
       "      <td>0</td>\n",
       "    </tr>\n",
       "    <tr>\n",
       "      <th>1</th>\n",
       "      <td>2</td>\n",
       "      <td>4.9</td>\n",
       "      <td>3.0</td>\n",
       "      <td>1.4</td>\n",
       "      <td>0.2</td>\n",
       "      <td>0</td>\n",
       "    </tr>\n",
       "    <tr>\n",
       "      <th>2</th>\n",
       "      <td>3</td>\n",
       "      <td>4.7</td>\n",
       "      <td>3.2</td>\n",
       "      <td>1.3</td>\n",
       "      <td>0.2</td>\n",
       "      <td>0</td>\n",
       "    </tr>\n",
       "    <tr>\n",
       "      <th>3</th>\n",
       "      <td>4</td>\n",
       "      <td>4.6</td>\n",
       "      <td>3.1</td>\n",
       "      <td>1.5</td>\n",
       "      <td>0.2</td>\n",
       "      <td>0</td>\n",
       "    </tr>\n",
       "    <tr>\n",
       "      <th>4</th>\n",
       "      <td>5</td>\n",
       "      <td>5.0</td>\n",
       "      <td>3.6</td>\n",
       "      <td>1.4</td>\n",
       "      <td>0.2</td>\n",
       "      <td>0</td>\n",
       "    </tr>\n",
       "  </tbody>\n",
       "</table>\n",
       "</div>"
      ],
      "text/plain": [
       "   Id  SepalLengthCm  SepalWidthCm  PetalLengthCm  PetalWidthCm  Species\n",
       "0   1            5.1           3.5            1.4           0.2        0\n",
       "1   2            4.9           3.0            1.4           0.2        0\n",
       "2   3            4.7           3.2            1.3           0.2        0\n",
       "3   4            4.6           3.1            1.5           0.2        0\n",
       "4   5            5.0           3.6            1.4           0.2        0"
      ]
     },
     "execution_count": 7,
     "metadata": {},
     "output_type": "execute_result"
    }
   ],
   "source": [
    "iris.head()"
   ]
  },
  {
   "cell_type": "code",
   "execution_count": 8,
   "id": "f5627f96",
   "metadata": {
    "execution": {
     "iopub.execute_input": "2024-09-11T09:47:04.646204Z",
     "iopub.status.busy": "2024-09-11T09:47:04.645776Z",
     "iopub.status.idle": "2024-09-11T09:47:04.653654Z",
     "shell.execute_reply": "2024-09-11T09:47:04.652479Z"
    },
    "papermill": {
     "duration": 0.020488,
     "end_time": "2024-09-11T09:47:04.656161",
     "exception": false,
     "start_time": "2024-09-11T09:47:04.635673",
     "status": "completed"
    },
    "tags": []
   },
   "outputs": [],
   "source": [
    "x=iris[[\"SepalLengthCm\",\"SepalWidthCm\",\"PetalLengthCm\",\"PetalWidthCm\"]].values\n",
    "y=iris[[\"Species\"]].values"
   ]
  },
  {
   "cell_type": "code",
   "execution_count": 9,
   "id": "c20e4994",
   "metadata": {
    "execution": {
     "iopub.execute_input": "2024-09-11T09:47:04.676532Z",
     "iopub.status.busy": "2024-09-11T09:47:04.675251Z",
     "iopub.status.idle": "2024-09-11T09:47:05.076300Z",
     "shell.execute_reply": "2024-09-11T09:47:05.074925Z"
    },
    "papermill": {
     "duration": 0.414404,
     "end_time": "2024-09-11T09:47:05.079364",
     "exception": false,
     "start_time": "2024-09-11T09:47:04.664960",
     "status": "completed"
    },
    "tags": []
   },
   "outputs": [],
   "source": [
    "from sklearn.linear_model import LogisticRegression"
   ]
  },
  {
   "cell_type": "code",
   "execution_count": 10,
   "id": "79befaa8",
   "metadata": {
    "execution": {
     "iopub.execute_input": "2024-09-11T09:47:05.099487Z",
     "iopub.status.busy": "2024-09-11T09:47:05.098367Z",
     "iopub.status.idle": "2024-09-11T09:47:05.104929Z",
     "shell.execute_reply": "2024-09-11T09:47:05.103525Z"
    },
    "papermill": {
     "duration": 0.020014,
     "end_time": "2024-09-11T09:47:05.108185",
     "exception": false,
     "start_time": "2024-09-11T09:47:05.088171",
     "status": "completed"
    },
    "tags": []
   },
   "outputs": [],
   "source": [
    "model=LogisticRegression()"
   ]
  },
  {
   "cell_type": "code",
   "execution_count": 11,
   "id": "050524f9",
   "metadata": {
    "execution": {
     "iopub.execute_input": "2024-09-11T09:47:05.134095Z",
     "iopub.status.busy": "2024-09-11T09:47:05.133469Z",
     "iopub.status.idle": "2024-09-11T09:47:05.184068Z",
     "shell.execute_reply": "2024-09-11T09:47:05.182817Z"
    },
    "papermill": {
     "duration": 0.06814,
     "end_time": "2024-09-11T09:47:05.188623",
     "exception": false,
     "start_time": "2024-09-11T09:47:05.120483",
     "status": "completed"
    },
    "tags": []
   },
   "outputs": [
    {
     "data": {
      "text/html": [
       "<style>#sk-container-id-1 {color: black;background-color: white;}#sk-container-id-1 pre{padding: 0;}#sk-container-id-1 div.sk-toggleable {background-color: white;}#sk-container-id-1 label.sk-toggleable__label {cursor: pointer;display: block;width: 100%;margin-bottom: 0;padding: 0.3em;box-sizing: border-box;text-align: center;}#sk-container-id-1 label.sk-toggleable__label-arrow:before {content: \"▸\";float: left;margin-right: 0.25em;color: #696969;}#sk-container-id-1 label.sk-toggleable__label-arrow:hover:before {color: black;}#sk-container-id-1 div.sk-estimator:hover label.sk-toggleable__label-arrow:before {color: black;}#sk-container-id-1 div.sk-toggleable__content {max-height: 0;max-width: 0;overflow: hidden;text-align: left;background-color: #f0f8ff;}#sk-container-id-1 div.sk-toggleable__content pre {margin: 0.2em;color: black;border-radius: 0.25em;background-color: #f0f8ff;}#sk-container-id-1 input.sk-toggleable__control:checked~div.sk-toggleable__content {max-height: 200px;max-width: 100%;overflow: auto;}#sk-container-id-1 input.sk-toggleable__control:checked~label.sk-toggleable__label-arrow:before {content: \"▾\";}#sk-container-id-1 div.sk-estimator input.sk-toggleable__control:checked~label.sk-toggleable__label {background-color: #d4ebff;}#sk-container-id-1 div.sk-label input.sk-toggleable__control:checked~label.sk-toggleable__label {background-color: #d4ebff;}#sk-container-id-1 input.sk-hidden--visually {border: 0;clip: rect(1px 1px 1px 1px);clip: rect(1px, 1px, 1px, 1px);height: 1px;margin: -1px;overflow: hidden;padding: 0;position: absolute;width: 1px;}#sk-container-id-1 div.sk-estimator {font-family: monospace;background-color: #f0f8ff;border: 1px dotted black;border-radius: 0.25em;box-sizing: border-box;margin-bottom: 0.5em;}#sk-container-id-1 div.sk-estimator:hover {background-color: #d4ebff;}#sk-container-id-1 div.sk-parallel-item::after {content: \"\";width: 100%;border-bottom: 1px solid gray;flex-grow: 1;}#sk-container-id-1 div.sk-label:hover label.sk-toggleable__label {background-color: #d4ebff;}#sk-container-id-1 div.sk-serial::before {content: \"\";position: absolute;border-left: 1px solid gray;box-sizing: border-box;top: 0;bottom: 0;left: 50%;z-index: 0;}#sk-container-id-1 div.sk-serial {display: flex;flex-direction: column;align-items: center;background-color: white;padding-right: 0.2em;padding-left: 0.2em;position: relative;}#sk-container-id-1 div.sk-item {position: relative;z-index: 1;}#sk-container-id-1 div.sk-parallel {display: flex;align-items: stretch;justify-content: center;background-color: white;position: relative;}#sk-container-id-1 div.sk-item::before, #sk-container-id-1 div.sk-parallel-item::before {content: \"\";position: absolute;border-left: 1px solid gray;box-sizing: border-box;top: 0;bottom: 0;left: 50%;z-index: -1;}#sk-container-id-1 div.sk-parallel-item {display: flex;flex-direction: column;z-index: 1;position: relative;background-color: white;}#sk-container-id-1 div.sk-parallel-item:first-child::after {align-self: flex-end;width: 50%;}#sk-container-id-1 div.sk-parallel-item:last-child::after {align-self: flex-start;width: 50%;}#sk-container-id-1 div.sk-parallel-item:only-child::after {width: 0;}#sk-container-id-1 div.sk-dashed-wrapped {border: 1px dashed gray;margin: 0 0.4em 0.5em 0.4em;box-sizing: border-box;padding-bottom: 0.4em;background-color: white;}#sk-container-id-1 div.sk-label label {font-family: monospace;font-weight: bold;display: inline-block;line-height: 1.2em;}#sk-container-id-1 div.sk-label-container {text-align: center;}#sk-container-id-1 div.sk-container {/* jupyter's `normalize.less` sets `[hidden] { display: none; }` but bootstrap.min.css set `[hidden] { display: none !important; }` so we also need the `!important` here to be able to override the default hidden behavior on the sphinx rendered scikit-learn.org. See: https://github.com/scikit-learn/scikit-learn/issues/21755 */display: inline-block !important;position: relative;}#sk-container-id-1 div.sk-text-repr-fallback {display: none;}</style><div id=\"sk-container-id-1\" class=\"sk-top-container\"><div class=\"sk-text-repr-fallback\"><pre>LogisticRegression()</pre><b>In a Jupyter environment, please rerun this cell to show the HTML representation or trust the notebook. <br />On GitHub, the HTML representation is unable to render, please try loading this page with nbviewer.org.</b></div><div class=\"sk-container\" hidden><div class=\"sk-item\"><div class=\"sk-estimator sk-toggleable\"><input class=\"sk-toggleable__control sk-hidden--visually\" id=\"sk-estimator-id-1\" type=\"checkbox\" checked><label for=\"sk-estimator-id-1\" class=\"sk-toggleable__label sk-toggleable__label-arrow\">LogisticRegression</label><div class=\"sk-toggleable__content\"><pre>LogisticRegression()</pre></div></div></div></div></div>"
      ],
      "text/plain": [
       "LogisticRegression()"
      ]
     },
     "execution_count": 11,
     "metadata": {},
     "output_type": "execute_result"
    }
   ],
   "source": [
    "model.fit(x,y)"
   ]
  },
  {
   "cell_type": "code",
   "execution_count": 12,
   "id": "0ead0a93",
   "metadata": {
    "execution": {
     "iopub.execute_input": "2024-09-11T09:47:05.208738Z",
     "iopub.status.busy": "2024-09-11T09:47:05.208249Z",
     "iopub.status.idle": "2024-09-11T09:47:05.217108Z",
     "shell.execute_reply": "2024-09-11T09:47:05.216055Z"
    },
    "papermill": {
     "duration": 0.022713,
     "end_time": "2024-09-11T09:47:05.220471",
     "exception": false,
     "start_time": "2024-09-11T09:47:05.197758",
     "status": "completed"
    },
    "tags": []
   },
   "outputs": [
    {
     "data": {
      "text/plain": [
       "0.9733333333333334"
      ]
     },
     "execution_count": 12,
     "metadata": {},
     "output_type": "execute_result"
    }
   ],
   "source": [
    "model.score(x,y)"
   ]
  },
  {
   "cell_type": "code",
   "execution_count": 13,
   "id": "dae76e8e",
   "metadata": {
    "execution": {
     "iopub.execute_input": "2024-09-11T09:47:05.241363Z",
     "iopub.status.busy": "2024-09-11T09:47:05.240760Z",
     "iopub.status.idle": "2024-09-11T09:47:05.252961Z",
     "shell.execute_reply": "2024-09-11T09:47:05.251503Z"
    },
    "papermill": {
     "duration": 0.026006,
     "end_time": "2024-09-11T09:47:05.255755",
     "exception": false,
     "start_time": "2024-09-11T09:47:05.229749",
     "status": "completed"
    },
    "tags": []
   },
   "outputs": [
    {
     "data": {
      "text/plain": [
       "array([0, 0, 0, 0, 0, 0, 0, 0, 0, 0, 0, 0, 0, 0, 0, 0, 0, 0, 0, 0, 0, 0,\n",
       "       0, 0, 0, 0, 0, 0, 0, 0, 0, 0, 0, 0, 0, 0, 0, 0, 0, 0, 0, 0, 0, 0,\n",
       "       0, 0, 0, 0, 0, 0, 1, 1, 1, 1, 1, 1, 1, 1, 1, 1, 1, 1, 1, 1, 1, 1,\n",
       "       1, 1, 1, 1, 2, 1, 1, 1, 1, 1, 1, 2, 1, 1, 1, 1, 1, 2, 1, 1, 1, 1,\n",
       "       1, 1, 1, 1, 1, 1, 1, 1, 1, 1, 1, 1, 2, 2, 2, 2, 2, 2, 1, 2, 2, 2,\n",
       "       2, 2, 2, 2, 2, 2, 2, 2, 2, 2, 2, 2, 2, 2, 2, 2, 2, 2, 2, 2, 2, 2,\n",
       "       2, 2, 2, 2, 2, 2, 2, 2, 2, 2, 2, 2, 2, 2, 2, 2, 2, 2])"
      ]
     },
     "execution_count": 13,
     "metadata": {},
     "output_type": "execute_result"
    }
   ],
   "source": [
    "expected=y\n",
    "predicted=model.predict(x)\n",
    "predicted"
   ]
  },
  {
   "cell_type": "code",
   "execution_count": 14,
   "id": "1f8211ac",
   "metadata": {
    "execution": {
     "iopub.execute_input": "2024-09-11T09:47:05.277200Z",
     "iopub.status.busy": "2024-09-11T09:47:05.276613Z",
     "iopub.status.idle": "2024-09-11T09:47:05.282987Z",
     "shell.execute_reply": "2024-09-11T09:47:05.281594Z"
    },
    "papermill": {
     "duration": 0.020516,
     "end_time": "2024-09-11T09:47:05.286045",
     "exception": false,
     "start_time": "2024-09-11T09:47:05.265529",
     "status": "completed"
    },
    "tags": []
   },
   "outputs": [],
   "source": [
    "from sklearn import metrics"
   ]
  },
  {
   "cell_type": "code",
   "execution_count": 15,
   "id": "a922655f",
   "metadata": {
    "execution": {
     "iopub.execute_input": "2024-09-11T09:47:05.308200Z",
     "iopub.status.busy": "2024-09-11T09:47:05.307641Z",
     "iopub.status.idle": "2024-09-11T09:47:05.328414Z",
     "shell.execute_reply": "2024-09-11T09:47:05.326258Z"
    },
    "papermill": {
     "duration": 0.036594,
     "end_time": "2024-09-11T09:47:05.332227",
     "exception": false,
     "start_time": "2024-09-11T09:47:05.295633",
     "status": "completed"
    },
    "tags": []
   },
   "outputs": [
    {
     "name": "stdout",
     "output_type": "stream",
     "text": [
      "              precision    recall  f1-score   support\n",
      "\n",
      "           0       1.00      1.00      1.00        50\n",
      "           1       0.98      0.94      0.96        50\n",
      "           2       0.94      0.98      0.96        50\n",
      "\n",
      "    accuracy                           0.97       150\n",
      "   macro avg       0.97      0.97      0.97       150\n",
      "weighted avg       0.97      0.97      0.97       150\n",
      "\n"
     ]
    }
   ],
   "source": [
    "print(metrics.classification_report(expected,predicted)) "
   ]
  },
  {
   "cell_type": "code",
   "execution_count": 16,
   "id": "c04480fe",
   "metadata": {
    "execution": {
     "iopub.execute_input": "2024-09-11T09:47:05.358951Z",
     "iopub.status.busy": "2024-09-11T09:47:05.357961Z",
     "iopub.status.idle": "2024-09-11T09:47:05.374638Z",
     "shell.execute_reply": "2024-09-11T09:47:05.373492Z"
    },
    "papermill": {
     "duration": 0.035966,
     "end_time": "2024-09-11T09:47:05.381349",
     "exception": false,
     "start_time": "2024-09-11T09:47:05.345383",
     "status": "completed"
    },
    "tags": []
   },
   "outputs": [
    {
     "name": "stdout",
     "output_type": "stream",
     "text": [
      "[[50  0  0]\n",
      " [ 0 47  3]\n",
      " [ 0  1 49]]\n"
     ]
    }
   ],
   "source": [
    "print(metrics.confusion_matrix(expected,predicted))"
   ]
  },
  {
   "cell_type": "code",
   "execution_count": 17,
   "id": "9073e4d3",
   "metadata": {
    "execution": {
     "iopub.execute_input": "2024-09-11T09:47:05.406154Z",
     "iopub.status.busy": "2024-09-11T09:47:05.405692Z",
     "iopub.status.idle": "2024-09-11T09:47:05.415907Z",
     "shell.execute_reply": "2024-09-11T09:47:05.414532Z"
    },
    "papermill": {
     "duration": 0.023788,
     "end_time": "2024-09-11T09:47:05.418507",
     "exception": false,
     "start_time": "2024-09-11T09:47:05.394719",
     "status": "completed"
    },
    "tags": []
   },
   "outputs": [
    {
     "name": "stdout",
     "output_type": "stream",
     "text": [
      "Prédiction pour new_data: [0]\n"
     ]
    }
   ],
   "source": [
    "new_data = pd.DataFrame({\"SepalLengthCm\": [5.1], \"SepalWidthCm\": [3.5], \"PetalLengthCm\": [1.4], \"PetalWidthCm\": [0.2]})\n",
    "new_prediction = model.predict(new_data)\n",
    "print(\"Prédiction pour new_data:\", new_prediction)\n"
   ]
  },
  {
   "cell_type": "code",
   "execution_count": 18,
   "id": "e25ab21d",
   "metadata": {
    "execution": {
     "iopub.execute_input": "2024-09-11T09:47:05.440267Z",
     "iopub.status.busy": "2024-09-11T09:47:05.439710Z",
     "iopub.status.idle": "2024-09-11T09:47:05.465621Z",
     "shell.execute_reply": "2024-09-11T09:47:05.464218Z"
    },
    "papermill": {
     "duration": 0.039981,
     "end_time": "2024-09-11T09:47:05.468601",
     "exception": false,
     "start_time": "2024-09-11T09:47:05.428620",
     "status": "completed"
    },
    "tags": []
   },
   "outputs": [
    {
     "data": {
      "text/html": [
       "<div>\n",
       "<style scoped>\n",
       "    .dataframe tbody tr th:only-of-type {\n",
       "        vertical-align: middle;\n",
       "    }\n",
       "\n",
       "    .dataframe tbody tr th {\n",
       "        vertical-align: top;\n",
       "    }\n",
       "\n",
       "    .dataframe thead th {\n",
       "        text-align: right;\n",
       "    }\n",
       "</style>\n",
       "<table border=\"1\" class=\"dataframe\">\n",
       "  <thead>\n",
       "    <tr style=\"text-align: right;\">\n",
       "      <th></th>\n",
       "      <th>Id</th>\n",
       "      <th>SepalLengthCm</th>\n",
       "      <th>SepalWidthCm</th>\n",
       "      <th>PetalLengthCm</th>\n",
       "      <th>PetalWidthCm</th>\n",
       "      <th>Species</th>\n",
       "    </tr>\n",
       "  </thead>\n",
       "  <tbody>\n",
       "    <tr>\n",
       "      <th>50</th>\n",
       "      <td>51</td>\n",
       "      <td>7.0</td>\n",
       "      <td>3.2</td>\n",
       "      <td>4.7</td>\n",
       "      <td>1.4</td>\n",
       "      <td>1</td>\n",
       "    </tr>\n",
       "    <tr>\n",
       "      <th>51</th>\n",
       "      <td>52</td>\n",
       "      <td>6.4</td>\n",
       "      <td>3.2</td>\n",
       "      <td>4.5</td>\n",
       "      <td>1.5</td>\n",
       "      <td>1</td>\n",
       "    </tr>\n",
       "    <tr>\n",
       "      <th>52</th>\n",
       "      <td>53</td>\n",
       "      <td>6.9</td>\n",
       "      <td>3.1</td>\n",
       "      <td>4.9</td>\n",
       "      <td>1.5</td>\n",
       "      <td>1</td>\n",
       "    </tr>\n",
       "    <tr>\n",
       "      <th>53</th>\n",
       "      <td>54</td>\n",
       "      <td>5.5</td>\n",
       "      <td>2.3</td>\n",
       "      <td>4.0</td>\n",
       "      <td>1.3</td>\n",
       "      <td>1</td>\n",
       "    </tr>\n",
       "    <tr>\n",
       "      <th>54</th>\n",
       "      <td>55</td>\n",
       "      <td>6.5</td>\n",
       "      <td>2.8</td>\n",
       "      <td>4.6</td>\n",
       "      <td>1.5</td>\n",
       "      <td>1</td>\n",
       "    </tr>\n",
       "    <tr>\n",
       "      <th>...</th>\n",
       "      <td>...</td>\n",
       "      <td>...</td>\n",
       "      <td>...</td>\n",
       "      <td>...</td>\n",
       "      <td>...</td>\n",
       "      <td>...</td>\n",
       "    </tr>\n",
       "    <tr>\n",
       "      <th>143</th>\n",
       "      <td>144</td>\n",
       "      <td>6.8</td>\n",
       "      <td>3.2</td>\n",
       "      <td>5.9</td>\n",
       "      <td>2.3</td>\n",
       "      <td>2</td>\n",
       "    </tr>\n",
       "    <tr>\n",
       "      <th>144</th>\n",
       "      <td>145</td>\n",
       "      <td>6.7</td>\n",
       "      <td>3.3</td>\n",
       "      <td>5.7</td>\n",
       "      <td>2.5</td>\n",
       "      <td>2</td>\n",
       "    </tr>\n",
       "    <tr>\n",
       "      <th>145</th>\n",
       "      <td>146</td>\n",
       "      <td>6.7</td>\n",
       "      <td>3.0</td>\n",
       "      <td>5.2</td>\n",
       "      <td>2.3</td>\n",
       "      <td>2</td>\n",
       "    </tr>\n",
       "    <tr>\n",
       "      <th>146</th>\n",
       "      <td>147</td>\n",
       "      <td>6.3</td>\n",
       "      <td>2.5</td>\n",
       "      <td>5.0</td>\n",
       "      <td>1.9</td>\n",
       "      <td>2</td>\n",
       "    </tr>\n",
       "    <tr>\n",
       "      <th>147</th>\n",
       "      <td>148</td>\n",
       "      <td>6.5</td>\n",
       "      <td>3.0</td>\n",
       "      <td>5.2</td>\n",
       "      <td>2.0</td>\n",
       "      <td>2</td>\n",
       "    </tr>\n",
       "  </tbody>\n",
       "</table>\n",
       "<p>98 rows × 6 columns</p>\n",
       "</div>"
      ],
      "text/plain": [
       "      Id  SepalLengthCm  SepalWidthCm  PetalLengthCm  PetalWidthCm  Species\n",
       "50    51            7.0           3.2            4.7           1.4        1\n",
       "51    52            6.4           3.2            4.5           1.5        1\n",
       "52    53            6.9           3.1            4.9           1.5        1\n",
       "53    54            5.5           2.3            4.0           1.3        1\n",
       "54    55            6.5           2.8            4.6           1.5        1\n",
       "..   ...            ...           ...            ...           ...      ...\n",
       "143  144            6.8           3.2            5.9           2.3        2\n",
       "144  145            6.7           3.3            5.7           2.5        2\n",
       "145  146            6.7           3.0            5.2           2.3        2\n",
       "146  147            6.3           2.5            5.0           1.9        2\n",
       "147  148            6.5           3.0            5.2           2.0        2\n",
       "\n",
       "[98 rows x 6 columns]"
      ]
     },
     "execution_count": 18,
     "metadata": {},
     "output_type": "execute_result"
    }
   ],
   "source": [
    "iris.iloc[50:148]"
   ]
  },
  {
   "cell_type": "code",
   "execution_count": 19,
   "id": "f16cf4dd",
   "metadata": {
    "execution": {
     "iopub.execute_input": "2024-09-11T09:47:05.493747Z",
     "iopub.status.busy": "2024-09-11T09:47:05.493229Z",
     "iopub.status.idle": "2024-09-11T09:47:05.503411Z",
     "shell.execute_reply": "2024-09-11T09:47:05.502446Z"
    },
    "papermill": {
     "duration": 0.02863,
     "end_time": "2024-09-11T09:47:05.507815",
     "exception": false,
     "start_time": "2024-09-11T09:47:05.479185",
     "status": "completed"
    },
    "tags": []
   },
   "outputs": [
    {
     "name": "stdout",
     "output_type": "stream",
     "text": [
      "new_prediction: [1]\n"
     ]
    }
   ],
   "source": [
    "new_data=pd.DataFrame({\"SepalLengthCm\":[7.0],\"SepalWidthCm\":[3.2],\"PetalLengthCm\":[4.7],\"PetalWidthCm\":[1.4]})\n",
    "new_prediction=model.predict(new_data)\n",
    "print(\"new_prediction:\",new_prediction)"
   ]
  }
 ],
 "metadata": {
  "kaggle": {
   "accelerator": "none",
   "dataSources": [
    {
     "datasetId": 4247,
     "sourceId": 6570,
     "sourceType": "datasetVersion"
    }
   ],
   "dockerImageVersionId": 30761,
   "isGpuEnabled": false,
   "isInternetEnabled": true,
   "language": "python",
   "sourceType": "notebook"
  },
  "kernelspec": {
   "display_name": "Python 3",
   "language": "python",
   "name": "python3"
  },
  "language_info": {
   "codemirror_mode": {
    "name": "ipython",
    "version": 3
   },
   "file_extension": ".py",
   "mimetype": "text/x-python",
   "name": "python",
   "nbconvert_exporter": "python",
   "pygments_lexer": "ipython3",
   "version": "3.10.14"
  },
  "papermill": {
   "default_parameters": {},
   "duration": 8.27968,
   "end_time": "2024-09-11T09:47:06.243853",
   "environment_variables": {},
   "exception": null,
   "input_path": "__notebook__.ipynb",
   "output_path": "__notebook__.ipynb",
   "parameters": {},
   "start_time": "2024-09-11T09:46:57.964173",
   "version": "2.6.0"
  }
 },
 "nbformat": 4,
 "nbformat_minor": 5
}
