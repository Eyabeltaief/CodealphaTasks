{
 "cells": [
  {
   "cell_type": "code",
   "execution_count": 1,
   "id": "ba343017",
   "metadata": {
    "execution": {
     "iopub.execute_input": "2024-09-25T09:11:50.455532Z",
     "iopub.status.busy": "2024-09-25T09:11:50.454815Z",
     "iopub.status.idle": "2024-09-25T09:11:54.392573Z",
     "shell.execute_reply": "2024-09-25T09:11:54.391028Z"
    },
    "papermill": {
     "duration": 3.954186,
     "end_time": "2024-09-25T09:11:54.395935",
     "exception": false,
     "start_time": "2024-09-25T09:11:50.441749",
     "status": "completed"
    },
    "tags": []
   },
   "outputs": [],
   "source": [
    "import pandas as pd\n",
    "import matplotlib.pyplot as plt\n",
    "import seaborn as sns\n",
    "#import numpy as np\n",
    "from sklearn.model_selection import train_test_split\n",
    "from sklearn.linear_model import LinearRegression\n",
    "from sklearn.linear_model import Lasso\n",
    "from sklearn import metrics\n",
    "import warnings\n",
    "warnings.filterwarnings('ignore')\n",
    "%matplotlib inline\n",
    "sns.set(style=\"white\",color_codes=True)\n"
   ]
  },
  {
   "cell_type": "code",
   "execution_count": 2,
   "id": "10c43cc8",
   "metadata": {
    "execution": {
     "iopub.execute_input": "2024-09-25T09:11:54.420654Z",
     "iopub.status.busy": "2024-09-25T09:11:54.420013Z",
     "iopub.status.idle": "2024-09-25T09:11:54.448721Z",
     "shell.execute_reply": "2024-09-25T09:11:54.446961Z"
    },
    "papermill": {
     "duration": 0.044915,
     "end_time": "2024-09-25T09:11:54.452278",
     "exception": false,
     "start_time": "2024-09-25T09:11:54.407363",
     "status": "completed"
    },
    "tags": []
   },
   "outputs": [],
   "source": [
    "car=pd.read_csv(\"/kaggle/input/car-price-predictionused-cars/car data.csv\")"
   ]
  },
  {
   "cell_type": "code",
   "execution_count": 3,
   "id": "b4da4328",
   "metadata": {
    "execution": {
     "iopub.execute_input": "2024-09-25T09:11:54.476792Z",
     "iopub.status.busy": "2024-09-25T09:11:54.476323Z",
     "iopub.status.idle": "2024-09-25T09:11:54.486874Z",
     "shell.execute_reply": "2024-09-25T09:11:54.485330Z"
    },
    "papermill": {
     "duration": 0.026255,
     "end_time": "2024-09-25T09:11:54.490117",
     "exception": false,
     "start_time": "2024-09-25T09:11:54.463862",
     "status": "completed"
    },
    "tags": []
   },
   "outputs": [
    {
     "data": {
      "text/plain": [
       "301"
      ]
     },
     "execution_count": 3,
     "metadata": {},
     "output_type": "execute_result"
    }
   ],
   "source": [
    "len(car)"
   ]
  },
  {
   "cell_type": "code",
   "execution_count": 4,
   "id": "14fc7bd2",
   "metadata": {
    "execution": {
     "iopub.execute_input": "2024-09-25T09:11:54.515340Z",
     "iopub.status.busy": "2024-09-25T09:11:54.513714Z",
     "iopub.status.idle": "2024-09-25T09:11:54.546937Z",
     "shell.execute_reply": "2024-09-25T09:11:54.545111Z"
    },
    "papermill": {
     "duration": 0.049495,
     "end_time": "2024-09-25T09:11:54.550425",
     "exception": false,
     "start_time": "2024-09-25T09:11:54.500930",
     "status": "completed"
    },
    "tags": []
   },
   "outputs": [
    {
     "data": {
      "text/html": [
       "<div>\n",
       "<style scoped>\n",
       "    .dataframe tbody tr th:only-of-type {\n",
       "        vertical-align: middle;\n",
       "    }\n",
       "\n",
       "    .dataframe tbody tr th {\n",
       "        vertical-align: top;\n",
       "    }\n",
       "\n",
       "    .dataframe thead th {\n",
       "        text-align: right;\n",
       "    }\n",
       "</style>\n",
       "<table border=\"1\" class=\"dataframe\">\n",
       "  <thead>\n",
       "    <tr style=\"text-align: right;\">\n",
       "      <th></th>\n",
       "      <th>Car_Name</th>\n",
       "      <th>Year</th>\n",
       "      <th>Selling_Price</th>\n",
       "      <th>Present_Price</th>\n",
       "      <th>Driven_kms</th>\n",
       "      <th>Fuel_Type</th>\n",
       "      <th>Selling_type</th>\n",
       "      <th>Transmission</th>\n",
       "      <th>Owner</th>\n",
       "    </tr>\n",
       "  </thead>\n",
       "  <tbody>\n",
       "    <tr>\n",
       "      <th>0</th>\n",
       "      <td>ritz</td>\n",
       "      <td>2014</td>\n",
       "      <td>3.35</td>\n",
       "      <td>5.59</td>\n",
       "      <td>27000</td>\n",
       "      <td>Petrol</td>\n",
       "      <td>Dealer</td>\n",
       "      <td>Manual</td>\n",
       "      <td>0</td>\n",
       "    </tr>\n",
       "    <tr>\n",
       "      <th>1</th>\n",
       "      <td>sx4</td>\n",
       "      <td>2013</td>\n",
       "      <td>4.75</td>\n",
       "      <td>9.54</td>\n",
       "      <td>43000</td>\n",
       "      <td>Diesel</td>\n",
       "      <td>Dealer</td>\n",
       "      <td>Manual</td>\n",
       "      <td>0</td>\n",
       "    </tr>\n",
       "    <tr>\n",
       "      <th>2</th>\n",
       "      <td>ciaz</td>\n",
       "      <td>2017</td>\n",
       "      <td>7.25</td>\n",
       "      <td>9.85</td>\n",
       "      <td>6900</td>\n",
       "      <td>Petrol</td>\n",
       "      <td>Dealer</td>\n",
       "      <td>Manual</td>\n",
       "      <td>0</td>\n",
       "    </tr>\n",
       "    <tr>\n",
       "      <th>3</th>\n",
       "      <td>wagon r</td>\n",
       "      <td>2011</td>\n",
       "      <td>2.85</td>\n",
       "      <td>4.15</td>\n",
       "      <td>5200</td>\n",
       "      <td>Petrol</td>\n",
       "      <td>Dealer</td>\n",
       "      <td>Manual</td>\n",
       "      <td>0</td>\n",
       "    </tr>\n",
       "    <tr>\n",
       "      <th>4</th>\n",
       "      <td>swift</td>\n",
       "      <td>2014</td>\n",
       "      <td>4.60</td>\n",
       "      <td>6.87</td>\n",
       "      <td>42450</td>\n",
       "      <td>Diesel</td>\n",
       "      <td>Dealer</td>\n",
       "      <td>Manual</td>\n",
       "      <td>0</td>\n",
       "    </tr>\n",
       "  </tbody>\n",
       "</table>\n",
       "</div>"
      ],
      "text/plain": [
       "  Car_Name  Year  Selling_Price  Present_Price  Driven_kms Fuel_Type  \\\n",
       "0     ritz  2014           3.35           5.59       27000    Petrol   \n",
       "1      sx4  2013           4.75           9.54       43000    Diesel   \n",
       "2     ciaz  2017           7.25           9.85        6900    Petrol   \n",
       "3  wagon r  2011           2.85           4.15        5200    Petrol   \n",
       "4    swift  2014           4.60           6.87       42450    Diesel   \n",
       "\n",
       "  Selling_type Transmission  Owner  \n",
       "0       Dealer       Manual      0  \n",
       "1       Dealer       Manual      0  \n",
       "2       Dealer       Manual      0  \n",
       "3       Dealer       Manual      0  \n",
       "4       Dealer       Manual      0  "
      ]
     },
     "execution_count": 4,
     "metadata": {},
     "output_type": "execute_result"
    }
   ],
   "source": [
    "car.head()"
   ]
  },
  {
   "cell_type": "markdown",
   "id": "8c6da1d0",
   "metadata": {
    "papermill": {
     "duration": 0.012291,
     "end_time": "2024-09-25T09:11:54.575313",
     "exception": false,
     "start_time": "2024-09-25T09:11:54.563022",
     "status": "completed"
    },
    "tags": []
   },
   "source": []
  },
  {
   "cell_type": "code",
   "execution_count": 5,
   "id": "a122ee37",
   "metadata": {
    "execution": {
     "iopub.execute_input": "2024-09-25T09:11:54.600934Z",
     "iopub.status.busy": "2024-09-25T09:11:54.600376Z",
     "iopub.status.idle": "2024-09-25T09:11:54.617309Z",
     "shell.execute_reply": "2024-09-25T09:11:54.615477Z"
    },
    "papermill": {
     "duration": 0.033526,
     "end_time": "2024-09-25T09:11:54.620569",
     "exception": false,
     "start_time": "2024-09-25T09:11:54.587043",
     "status": "completed"
    },
    "tags": []
   },
   "outputs": [
    {
     "name": "stdout",
     "output_type": "stream",
     "text": [
      "['Petrol' 'Diesel' 'CNG']\n",
      "['Manual' 'Automatic']\n",
      "['Dealer' 'Individual']\n",
      "[0 1 3]\n"
     ]
    }
   ],
   "source": [
    "print(car[\"Fuel_Type\"].unique())\n",
    "print(car[\"Transmission\"].unique())\n",
    "print(car[\"Selling_type\"].unique())\n",
    "print(car[\"Owner\"].unique())"
   ]
  },
  {
   "cell_type": "code",
   "execution_count": 6,
   "id": "57bb3fb8",
   "metadata": {
    "execution": {
     "iopub.execute_input": "2024-09-25T09:11:54.647292Z",
     "iopub.status.busy": "2024-09-25T09:11:54.645099Z",
     "iopub.status.idle": "2024-09-25T09:11:54.662861Z",
     "shell.execute_reply": "2024-09-25T09:11:54.660935Z"
    },
    "papermill": {
     "duration": 0.034316,
     "end_time": "2024-09-25T09:11:54.666379",
     "exception": false,
     "start_time": "2024-09-25T09:11:54.632063",
     "status": "completed"
    },
    "tags": []
   },
   "outputs": [
    {
     "name": "stdout",
     "output_type": "stream",
     "text": [
      "Fuel_Type\n",
      "Petrol    239\n",
      "Diesel     60\n",
      "CNG         2\n",
      "Name: count, dtype: int64\n",
      "Transmission\n",
      "Manual       261\n",
      "Automatic     40\n",
      "Name: count, dtype: int64\n",
      "Selling_type\n",
      "Dealer        195\n",
      "Individual    106\n",
      "Name: count, dtype: int64\n"
     ]
    }
   ],
   "source": [
    "print(car.Fuel_Type.value_counts())\n",
    "print(car.Transmission.value_counts())\n",
    "print(car.Selling_type.value_counts())"
   ]
  },
  {
   "cell_type": "code",
   "execution_count": 7,
   "id": "3a9a2fc2",
   "metadata": {
    "execution": {
     "iopub.execute_input": "2024-09-25T09:11:54.692716Z",
     "iopub.status.busy": "2024-09-25T09:11:54.692156Z",
     "iopub.status.idle": "2024-09-25T09:11:54.731497Z",
     "shell.execute_reply": "2024-09-25T09:11:54.729799Z"
    },
    "papermill": {
     "duration": 0.057451,
     "end_time": "2024-09-25T09:11:54.735756",
     "exception": false,
     "start_time": "2024-09-25T09:11:54.678305",
     "status": "completed"
    },
    "tags": []
   },
   "outputs": [
    {
     "data": {
      "text/html": [
       "<div>\n",
       "<style scoped>\n",
       "    .dataframe tbody tr th:only-of-type {\n",
       "        vertical-align: middle;\n",
       "    }\n",
       "\n",
       "    .dataframe tbody tr th {\n",
       "        vertical-align: top;\n",
       "    }\n",
       "\n",
       "    .dataframe thead th {\n",
       "        text-align: right;\n",
       "    }\n",
       "</style>\n",
       "<table border=\"1\" class=\"dataframe\">\n",
       "  <thead>\n",
       "    <tr style=\"text-align: right;\">\n",
       "      <th></th>\n",
       "      <th>Year</th>\n",
       "      <th>Selling_Price</th>\n",
       "      <th>Present_Price</th>\n",
       "      <th>Driven_kms</th>\n",
       "      <th>Owner</th>\n",
       "    </tr>\n",
       "  </thead>\n",
       "  <tbody>\n",
       "    <tr>\n",
       "      <th>count</th>\n",
       "      <td>301.000000</td>\n",
       "      <td>301.000000</td>\n",
       "      <td>301.000000</td>\n",
       "      <td>301.000000</td>\n",
       "      <td>301.000000</td>\n",
       "    </tr>\n",
       "    <tr>\n",
       "      <th>mean</th>\n",
       "      <td>2013.627907</td>\n",
       "      <td>4.661296</td>\n",
       "      <td>7.628472</td>\n",
       "      <td>36947.205980</td>\n",
       "      <td>0.043189</td>\n",
       "    </tr>\n",
       "    <tr>\n",
       "      <th>std</th>\n",
       "      <td>2.891554</td>\n",
       "      <td>5.082812</td>\n",
       "      <td>8.642584</td>\n",
       "      <td>38886.883882</td>\n",
       "      <td>0.247915</td>\n",
       "    </tr>\n",
       "    <tr>\n",
       "      <th>min</th>\n",
       "      <td>2003.000000</td>\n",
       "      <td>0.100000</td>\n",
       "      <td>0.320000</td>\n",
       "      <td>500.000000</td>\n",
       "      <td>0.000000</td>\n",
       "    </tr>\n",
       "    <tr>\n",
       "      <th>25%</th>\n",
       "      <td>2012.000000</td>\n",
       "      <td>0.900000</td>\n",
       "      <td>1.200000</td>\n",
       "      <td>15000.000000</td>\n",
       "      <td>0.000000</td>\n",
       "    </tr>\n",
       "    <tr>\n",
       "      <th>50%</th>\n",
       "      <td>2014.000000</td>\n",
       "      <td>3.600000</td>\n",
       "      <td>6.400000</td>\n",
       "      <td>32000.000000</td>\n",
       "      <td>0.000000</td>\n",
       "    </tr>\n",
       "    <tr>\n",
       "      <th>75%</th>\n",
       "      <td>2016.000000</td>\n",
       "      <td>6.000000</td>\n",
       "      <td>9.900000</td>\n",
       "      <td>48767.000000</td>\n",
       "      <td>0.000000</td>\n",
       "    </tr>\n",
       "    <tr>\n",
       "      <th>max</th>\n",
       "      <td>2018.000000</td>\n",
       "      <td>35.000000</td>\n",
       "      <td>92.600000</td>\n",
       "      <td>500000.000000</td>\n",
       "      <td>3.000000</td>\n",
       "    </tr>\n",
       "  </tbody>\n",
       "</table>\n",
       "</div>"
      ],
      "text/plain": [
       "              Year  Selling_Price  Present_Price     Driven_kms       Owner\n",
       "count   301.000000     301.000000     301.000000     301.000000  301.000000\n",
       "mean   2013.627907       4.661296       7.628472   36947.205980    0.043189\n",
       "std       2.891554       5.082812       8.642584   38886.883882    0.247915\n",
       "min    2003.000000       0.100000       0.320000     500.000000    0.000000\n",
       "25%    2012.000000       0.900000       1.200000   15000.000000    0.000000\n",
       "50%    2014.000000       3.600000       6.400000   32000.000000    0.000000\n",
       "75%    2016.000000       6.000000       9.900000   48767.000000    0.000000\n",
       "max    2018.000000      35.000000      92.600000  500000.000000    3.000000"
      ]
     },
     "execution_count": 7,
     "metadata": {},
     "output_type": "execute_result"
    }
   ],
   "source": [
    "car.describe()"
   ]
  },
  {
   "cell_type": "code",
   "execution_count": 8,
   "id": "9a551668",
   "metadata": {
    "execution": {
     "iopub.execute_input": "2024-09-25T09:11:54.763459Z",
     "iopub.status.busy": "2024-09-25T09:11:54.762883Z",
     "iopub.status.idle": "2024-09-25T09:11:54.786091Z",
     "shell.execute_reply": "2024-09-25T09:11:54.784382Z"
    },
    "papermill": {
     "duration": 0.040822,
     "end_time": "2024-09-25T09:11:54.789449",
     "exception": false,
     "start_time": "2024-09-25T09:11:54.748627",
     "status": "completed"
    },
    "tags": []
   },
   "outputs": [
    {
     "name": "stdout",
     "output_type": "stream",
     "text": [
      "<class 'pandas.core.frame.DataFrame'>\n",
      "RangeIndex: 301 entries, 0 to 300\n",
      "Data columns (total 9 columns):\n",
      " #   Column         Non-Null Count  Dtype  \n",
      "---  ------         --------------  -----  \n",
      " 0   Car_Name       301 non-null    object \n",
      " 1   Year           301 non-null    int64  \n",
      " 2   Selling_Price  301 non-null    float64\n",
      " 3   Present_Price  301 non-null    float64\n",
      " 4   Driven_kms     301 non-null    int64  \n",
      " 5   Fuel_Type      301 non-null    object \n",
      " 6   Selling_type   301 non-null    object \n",
      " 7   Transmission   301 non-null    object \n",
      " 8   Owner          301 non-null    int64  \n",
      "dtypes: float64(2), int64(3), object(4)\n",
      "memory usage: 21.3+ KB\n"
     ]
    }
   ],
   "source": [
    "car.info()"
   ]
  },
  {
   "cell_type": "code",
   "execution_count": 9,
   "id": "6a06fd49",
   "metadata": {
    "execution": {
     "iopub.execute_input": "2024-09-25T09:11:54.815627Z",
     "iopub.status.busy": "2024-09-25T09:11:54.815133Z",
     "iopub.status.idle": "2024-09-25T09:11:54.830789Z",
     "shell.execute_reply": "2024-09-25T09:11:54.829214Z"
    },
    "papermill": {
     "duration": 0.033448,
     "end_time": "2024-09-25T09:11:54.834621",
     "exception": false,
     "start_time": "2024-09-25T09:11:54.801173",
     "status": "completed"
    },
    "tags": []
   },
   "outputs": [],
   "source": [
    "car.replace({'Fuel_Type':{'Petrol':0,'Diesel':1,'CNG':\n",
    "2}},inplace=True)\n",
    "car.replace({'Transmission':{'Manual':0,'Automatic':1}},inplace=True)\n",
    "car.replace({'Selling_type':{'Dealer':0,'Individual':1}},inplace=True)\n",
    "    "
   ]
  },
  {
   "cell_type": "code",
   "execution_count": 10,
   "id": "516be547",
   "metadata": {
    "execution": {
     "iopub.execute_input": "2024-09-25T09:11:54.861474Z",
     "iopub.status.busy": "2024-09-25T09:11:54.859519Z",
     "iopub.status.idle": "2024-09-25T09:11:54.881706Z",
     "shell.execute_reply": "2024-09-25T09:11:54.880154Z"
    },
    "papermill": {
     "duration": 0.038472,
     "end_time": "2024-09-25T09:11:54.884711",
     "exception": false,
     "start_time": "2024-09-25T09:11:54.846239",
     "status": "completed"
    },
    "tags": []
   },
   "outputs": [
    {
     "data": {
      "text/html": [
       "<div>\n",
       "<style scoped>\n",
       "    .dataframe tbody tr th:only-of-type {\n",
       "        vertical-align: middle;\n",
       "    }\n",
       "\n",
       "    .dataframe tbody tr th {\n",
       "        vertical-align: top;\n",
       "    }\n",
       "\n",
       "    .dataframe thead th {\n",
       "        text-align: right;\n",
       "    }\n",
       "</style>\n",
       "<table border=\"1\" class=\"dataframe\">\n",
       "  <thead>\n",
       "    <tr style=\"text-align: right;\">\n",
       "      <th></th>\n",
       "      <th>Car_Name</th>\n",
       "      <th>Year</th>\n",
       "      <th>Selling_Price</th>\n",
       "      <th>Present_Price</th>\n",
       "      <th>Driven_kms</th>\n",
       "      <th>Fuel_Type</th>\n",
       "      <th>Selling_type</th>\n",
       "      <th>Transmission</th>\n",
       "      <th>Owner</th>\n",
       "    </tr>\n",
       "  </thead>\n",
       "  <tbody>\n",
       "    <tr>\n",
       "      <th>0</th>\n",
       "      <td>ritz</td>\n",
       "      <td>2014</td>\n",
       "      <td>3.35</td>\n",
       "      <td>5.59</td>\n",
       "      <td>27000</td>\n",
       "      <td>0</td>\n",
       "      <td>0</td>\n",
       "      <td>0</td>\n",
       "      <td>0</td>\n",
       "    </tr>\n",
       "    <tr>\n",
       "      <th>1</th>\n",
       "      <td>sx4</td>\n",
       "      <td>2013</td>\n",
       "      <td>4.75</td>\n",
       "      <td>9.54</td>\n",
       "      <td>43000</td>\n",
       "      <td>1</td>\n",
       "      <td>0</td>\n",
       "      <td>0</td>\n",
       "      <td>0</td>\n",
       "    </tr>\n",
       "    <tr>\n",
       "      <th>2</th>\n",
       "      <td>ciaz</td>\n",
       "      <td>2017</td>\n",
       "      <td>7.25</td>\n",
       "      <td>9.85</td>\n",
       "      <td>6900</td>\n",
       "      <td>0</td>\n",
       "      <td>0</td>\n",
       "      <td>0</td>\n",
       "      <td>0</td>\n",
       "    </tr>\n",
       "    <tr>\n",
       "      <th>3</th>\n",
       "      <td>wagon r</td>\n",
       "      <td>2011</td>\n",
       "      <td>2.85</td>\n",
       "      <td>4.15</td>\n",
       "      <td>5200</td>\n",
       "      <td>0</td>\n",
       "      <td>0</td>\n",
       "      <td>0</td>\n",
       "      <td>0</td>\n",
       "    </tr>\n",
       "    <tr>\n",
       "      <th>4</th>\n",
       "      <td>swift</td>\n",
       "      <td>2014</td>\n",
       "      <td>4.60</td>\n",
       "      <td>6.87</td>\n",
       "      <td>42450</td>\n",
       "      <td>1</td>\n",
       "      <td>0</td>\n",
       "      <td>0</td>\n",
       "      <td>0</td>\n",
       "    </tr>\n",
       "    <tr>\n",
       "      <th>5</th>\n",
       "      <td>vitara brezza</td>\n",
       "      <td>2018</td>\n",
       "      <td>9.25</td>\n",
       "      <td>9.83</td>\n",
       "      <td>2071</td>\n",
       "      <td>1</td>\n",
       "      <td>0</td>\n",
       "      <td>0</td>\n",
       "      <td>0</td>\n",
       "    </tr>\n",
       "    <tr>\n",
       "      <th>6</th>\n",
       "      <td>ciaz</td>\n",
       "      <td>2015</td>\n",
       "      <td>6.75</td>\n",
       "      <td>8.12</td>\n",
       "      <td>18796</td>\n",
       "      <td>0</td>\n",
       "      <td>0</td>\n",
       "      <td>0</td>\n",
       "      <td>0</td>\n",
       "    </tr>\n",
       "    <tr>\n",
       "      <th>7</th>\n",
       "      <td>s cross</td>\n",
       "      <td>2015</td>\n",
       "      <td>6.50</td>\n",
       "      <td>8.61</td>\n",
       "      <td>33429</td>\n",
       "      <td>1</td>\n",
       "      <td>0</td>\n",
       "      <td>0</td>\n",
       "      <td>0</td>\n",
       "    </tr>\n",
       "    <tr>\n",
       "      <th>8</th>\n",
       "      <td>ciaz</td>\n",
       "      <td>2016</td>\n",
       "      <td>8.75</td>\n",
       "      <td>8.89</td>\n",
       "      <td>20273</td>\n",
       "      <td>1</td>\n",
       "      <td>0</td>\n",
       "      <td>0</td>\n",
       "      <td>0</td>\n",
       "    </tr>\n",
       "    <tr>\n",
       "      <th>9</th>\n",
       "      <td>ciaz</td>\n",
       "      <td>2015</td>\n",
       "      <td>7.45</td>\n",
       "      <td>8.92</td>\n",
       "      <td>42367</td>\n",
       "      <td>1</td>\n",
       "      <td>0</td>\n",
       "      <td>0</td>\n",
       "      <td>0</td>\n",
       "    </tr>\n",
       "  </tbody>\n",
       "</table>\n",
       "</div>"
      ],
      "text/plain": [
       "        Car_Name  Year  Selling_Price  Present_Price  Driven_kms  Fuel_Type  \\\n",
       "0           ritz  2014           3.35           5.59       27000          0   \n",
       "1            sx4  2013           4.75           9.54       43000          1   \n",
       "2           ciaz  2017           7.25           9.85        6900          0   \n",
       "3        wagon r  2011           2.85           4.15        5200          0   \n",
       "4          swift  2014           4.60           6.87       42450          1   \n",
       "5  vitara brezza  2018           9.25           9.83        2071          1   \n",
       "6           ciaz  2015           6.75           8.12       18796          0   \n",
       "7        s cross  2015           6.50           8.61       33429          1   \n",
       "8           ciaz  2016           8.75           8.89       20273          1   \n",
       "9           ciaz  2015           7.45           8.92       42367          1   \n",
       "\n",
       "   Selling_type  Transmission  Owner  \n",
       "0             0             0      0  \n",
       "1             0             0      0  \n",
       "2             0             0      0  \n",
       "3             0             0      0  \n",
       "4             0             0      0  \n",
       "5             0             0      0  \n",
       "6             0             0      0  \n",
       "7             0             0      0  \n",
       "8             0             0      0  \n",
       "9             0             0      0  "
      ]
     },
     "execution_count": 10,
     "metadata": {},
     "output_type": "execute_result"
    }
   ],
   "source": [
    "car.head(10)"
   ]
  },
  {
   "cell_type": "code",
   "execution_count": 11,
   "id": "017c958b",
   "metadata": {
    "execution": {
     "iopub.execute_input": "2024-09-25T09:11:54.911304Z",
     "iopub.status.busy": "2024-09-25T09:11:54.910736Z",
     "iopub.status.idle": "2024-09-25T09:11:54.927885Z",
     "shell.execute_reply": "2024-09-25T09:11:54.925771Z"
    },
    "papermill": {
     "duration": 0.034095,
     "end_time": "2024-09-25T09:11:54.931000",
     "exception": false,
     "start_time": "2024-09-25T09:11:54.896905",
     "status": "completed"
    },
    "tags": []
   },
   "outputs": [
    {
     "name": "stdout",
     "output_type": "stream",
     "text": [
      "<class 'pandas.core.frame.DataFrame'>\n",
      "RangeIndex: 301 entries, 0 to 300\n",
      "Data columns (total 9 columns):\n",
      " #   Column         Non-Null Count  Dtype  \n",
      "---  ------         --------------  -----  \n",
      " 0   Car_Name       301 non-null    object \n",
      " 1   Year           301 non-null    int64  \n",
      " 2   Selling_Price  301 non-null    float64\n",
      " 3   Present_Price  301 non-null    float64\n",
      " 4   Driven_kms     301 non-null    int64  \n",
      " 5   Fuel_Type      301 non-null    int64  \n",
      " 6   Selling_type   301 non-null    int64  \n",
      " 7   Transmission   301 non-null    int64  \n",
      " 8   Owner          301 non-null    int64  \n",
      "dtypes: float64(2), int64(6), object(1)\n",
      "memory usage: 21.3+ KB\n"
     ]
    }
   ],
   "source": [
    "car.info()"
   ]
  },
  {
   "cell_type": "code",
   "execution_count": 12,
   "id": "9d67e5da",
   "metadata": {
    "execution": {
     "iopub.execute_input": "2024-09-25T09:11:54.959190Z",
     "iopub.status.busy": "2024-09-25T09:11:54.958604Z",
     "iopub.status.idle": "2024-09-25T09:11:54.969627Z",
     "shell.execute_reply": "2024-09-25T09:11:54.967826Z"
    },
    "papermill": {
     "duration": 0.029126,
     "end_time": "2024-09-25T09:11:54.972683",
     "exception": false,
     "start_time": "2024-09-25T09:11:54.943557",
     "status": "completed"
    },
    "tags": []
   },
   "outputs": [],
   "source": [
    "x=car.drop(['Car_Name','Selling_Price'],axis=1)\n",
    "y=car['Selling_Price']"
   ]
  },
  {
   "cell_type": "markdown",
   "id": "c434629b",
   "metadata": {
    "papermill": {
     "duration": 0.012155,
     "end_time": "2024-09-25T09:11:54.997612",
     "exception": false,
     "start_time": "2024-09-25T09:11:54.985457",
     "status": "completed"
    },
    "tags": []
   },
   "source": []
  },
  {
   "cell_type": "code",
   "execution_count": 13,
   "id": "02519260",
   "metadata": {
    "execution": {
     "iopub.execute_input": "2024-09-25T09:11:55.024567Z",
     "iopub.status.busy": "2024-09-25T09:11:55.024088Z",
     "iopub.status.idle": "2024-09-25T09:11:55.038443Z",
     "shell.execute_reply": "2024-09-25T09:11:55.036706Z"
    },
    "papermill": {
     "duration": 0.032967,
     "end_time": "2024-09-25T09:11:55.042571",
     "exception": false,
     "start_time": "2024-09-25T09:11:55.009604",
     "status": "completed"
    },
    "tags": []
   },
   "outputs": [
    {
     "name": "stdout",
     "output_type": "stream",
     "text": [
      "x=      Year  Present_Price  Driven_kms  Fuel_Type  Selling_type  Transmission  \\\n",
      "0    2014           5.59       27000          0             0             0   \n",
      "1    2013           9.54       43000          1             0             0   \n",
      "2    2017           9.85        6900          0             0             0   \n",
      "3    2011           4.15        5200          0             0             0   \n",
      "4    2014           6.87       42450          1             0             0   \n",
      "..    ...            ...         ...        ...           ...           ...   \n",
      "296  2016          11.60       33988          1             0             0   \n",
      "297  2015           5.90       60000          0             0             0   \n",
      "298  2009          11.00       87934          0             0             0   \n",
      "299  2017          12.50        9000          1             0             0   \n",
      "300  2016           5.90        5464          0             0             0   \n",
      "\n",
      "     Owner  \n",
      "0        0  \n",
      "1        0  \n",
      "2        0  \n",
      "3        0  \n",
      "4        0  \n",
      "..     ...  \n",
      "296      0  \n",
      "297      0  \n",
      "298      0  \n",
      "299      0  \n",
      "300      0  \n",
      "\n",
      "[301 rows x 7 columns]\n"
     ]
    }
   ],
   "source": [
    "print('x=',x)"
   ]
  },
  {
   "cell_type": "code",
   "execution_count": 14,
   "id": "f232960f",
   "metadata": {
    "execution": {
     "iopub.execute_input": "2024-09-25T09:11:55.071691Z",
     "iopub.status.busy": "2024-09-25T09:11:55.071163Z",
     "iopub.status.idle": "2024-09-25T09:11:55.080425Z",
     "shell.execute_reply": "2024-09-25T09:11:55.078762Z"
    },
    "papermill": {
     "duration": 0.027787,
     "end_time": "2024-09-25T09:11:55.083373",
     "exception": false,
     "start_time": "2024-09-25T09:11:55.055586",
     "status": "completed"
    },
    "tags": []
   },
   "outputs": [
    {
     "name": "stdout",
     "output_type": "stream",
     "text": [
      "0       3.35\n",
      "1       4.75\n",
      "2       7.25\n",
      "3       2.85\n",
      "4       4.60\n",
      "       ...  \n",
      "296     9.50\n",
      "297     4.00\n",
      "298     3.35\n",
      "299    11.50\n",
      "300     5.30\n",
      "Name: Selling_Price, Length: 301, dtype: float64\n"
     ]
    }
   ],
   "source": [
    "print(y)"
   ]
  },
  {
   "cell_type": "code",
   "execution_count": 15,
   "id": "98b37a24",
   "metadata": {
    "execution": {
     "iopub.execute_input": "2024-09-25T09:11:55.111975Z",
     "iopub.status.busy": "2024-09-25T09:11:55.111394Z",
     "iopub.status.idle": "2024-09-25T09:11:55.124285Z",
     "shell.execute_reply": "2024-09-25T09:11:55.122498Z"
    },
    "papermill": {
     "duration": 0.031183,
     "end_time": "2024-09-25T09:11:55.127331",
     "exception": false,
     "start_time": "2024-09-25T09:11:55.096148",
     "status": "completed"
    },
    "tags": []
   },
   "outputs": [],
   "source": [
    "x_train,x_test,y_train,y_test=train_test_split(x,y,test_size=0.1,random_state=2)"
   ]
  },
  {
   "cell_type": "code",
   "execution_count": 16,
   "id": "0bf946db",
   "metadata": {
    "execution": {
     "iopub.execute_input": "2024-09-25T09:11:55.156073Z",
     "iopub.status.busy": "2024-09-25T09:11:55.155476Z",
     "iopub.status.idle": "2024-09-25T09:11:55.181020Z",
     "shell.execute_reply": "2024-09-25T09:11:55.177872Z"
    },
    "papermill": {
     "duration": 0.044695,
     "end_time": "2024-09-25T09:11:55.184714",
     "exception": false,
     "start_time": "2024-09-25T09:11:55.140019",
     "status": "completed"
    },
    "tags": []
   },
   "outputs": [
    {
     "name": "stdout",
     "output_type": "stream",
     "text": [
      "x_train:      Year  Present_Price  Driven_kms  Fuel_Type  Selling_type  Transmission  \\\n",
      "204  2015          4.430       28282          0             0             0   \n",
      "249  2016          7.600       17000          0             0             0   \n",
      "277  2015         13.600       21780          0             0             0   \n",
      "194  2008          0.787       50000          0             1             0   \n",
      "244  2013          9.400       49000          1             0             0   \n",
      "..    ...            ...         ...        ...           ...           ...   \n",
      "75   2015          6.800       36000          0             0             0   \n",
      "22   2011          8.010       50000          0             0             1   \n",
      "72   2013         18.610       56001          0             0             0   \n",
      "15   2016         10.790       43000          1             0             0   \n",
      "168  2013          0.730       12000          0             1             0   \n",
      "\n",
      "     Owner  \n",
      "204      0  \n",
      "249      0  \n",
      "277      0  \n",
      "194      0  \n",
      "244      0  \n",
      "..     ...  \n",
      "75       0  \n",
      "22       0  \n",
      "72       0  \n",
      "15       0  \n",
      "168      0  \n",
      "\n",
      "[270 rows x 7 columns]\n",
      "x_test:      Year  Present_Price  Driven_kms  Fuel_Type  Selling_type  Transmission  \\\n",
      "99   2010         20.450       50024          1             0             0   \n",
      "161  2014          0.826       23000          0             1             0   \n",
      "89   2014          6.760       40000          0             0             0   \n",
      "30   2012          5.980       51439          1             0             0   \n",
      "232  2015         14.790       12900          0             0             1   \n",
      "290  2014          6.400       19000          0             0             0   \n",
      "35   2011          7.740       49998          2             0             0   \n",
      "7    2015          8.610       33429          1             0             0   \n",
      "183  2013          0.470       21000          0             1             0   \n",
      "13   2015          7.710       26000          0             0             0   \n",
      "269  2015         10.000       18828          0             0             0   \n",
      "65   2014          6.950       45000          1             0             0   \n",
      "178  2014          0.520       19000          0             1             1   \n",
      "258  2015         13.600       25000          0             0             0   \n",
      "227  2011          4.430       57000          0             0             0   \n",
      "133  2016          0.950         500          0             1             0   \n",
      "130  2017          0.870       11000          0             1             0   \n",
      "156  2017          0.520       15000          0             1             0   \n",
      "237  2015         13.600       68000          1             0             0   \n",
      "262  2015          5.800       40023          0             0             0   \n",
      "112  2014          2.400        7000          0             1             0   \n",
      "282  2014         14.000       63000          1             0             0   \n",
      "164  2016          0.540       14000          0             1             0   \n",
      "275  2016         13.600       30753          0             0             1   \n",
      "154  2014          0.880        8000          0             1             0   \n",
      "29   2015         10.380       45000          1             0             0   \n",
      "141  2016          0.800       20000          0             1             0   \n",
      "192  2007          0.750       49000          0             1             0   \n",
      "216  2016          4.430       12500          0             0             0   \n",
      "3    2011          4.150        5200          0             0             0   \n",
      "159  2017          0.510        4000          0             1             1   \n",
      "\n",
      "     Owner  \n",
      "99       0  \n",
      "161      0  \n",
      "89       0  \n",
      "30       0  \n",
      "232      0  \n",
      "290      0  \n",
      "35       0  \n",
      "7        0  \n",
      "183      0  \n",
      "13       0  \n",
      "269      0  \n",
      "65       0  \n",
      "178      0  \n",
      "258      0  \n",
      "227      0  \n",
      "133      0  \n",
      "130      0  \n",
      "156      0  \n",
      "237      0  \n",
      "262      0  \n",
      "112      0  \n",
      "282      0  \n",
      "164      0  \n",
      "275      0  \n",
      "154      0  \n",
      "29       0  \n",
      "141      0  \n",
      "192      1  \n",
      "216      0  \n",
      "3        0  \n",
      "159      0  \n",
      "y_test: 99      9.65\n",
      "161     0.45\n",
      "89      4.75\n",
      "30      3.10\n",
      "232    11.45\n",
      "290     4.50\n",
      "35      2.95\n",
      "7       6.50\n",
      "183     0.27\n",
      "13      6.10\n",
      "269     6.70\n",
      "65      4.75\n",
      "178     0.35\n",
      "258     8.40\n",
      "227     2.55\n",
      "133     0.72\n",
      "130     0.75\n",
      "156     0.48\n",
      "237    11.25\n",
      "262     4.00\n",
      "112     1.15\n",
      "282     8.25\n",
      "164     0.45\n",
      "275    10.90\n",
      "154     0.50\n",
      "29      7.45\n",
      "141     0.60\n",
      "192     0.20\n",
      "216     2.90\n",
      "3       2.85\n",
      "159     0.45\n",
      "Name: Selling_Price, dtype: float64\n",
      "y_train: 204    2.75\n",
      "249    5.25\n",
      "277    9.70\n",
      "194    0.20\n",
      "244    5.95\n",
      "       ... \n",
      "75     3.95\n",
      "22     4.40\n",
      "72     7.45\n",
      "15     7.75\n",
      "168    0.42\n",
      "Name: Selling_Price, Length: 270, dtype: float64\n"
     ]
    }
   ],
   "source": [
    "print(\"x_train:\",x_train)\n",
    "print(\"x_test:\",x_test)\n",
    "print(\"y_test:\",y_test)\n",
    "print(\"y_train:\",y_train)"
   ]
  },
  {
   "cell_type": "code",
   "execution_count": 17,
   "id": "789d9e33",
   "metadata": {
    "execution": {
     "iopub.execute_input": "2024-09-25T09:11:55.213072Z",
     "iopub.status.busy": "2024-09-25T09:11:55.212487Z",
     "iopub.status.idle": "2024-09-25T09:11:55.219326Z",
     "shell.execute_reply": "2024-09-25T09:11:55.217952Z"
    },
    "papermill": {
     "duration": 0.024387,
     "end_time": "2024-09-25T09:11:55.222125",
     "exception": false,
     "start_time": "2024-09-25T09:11:55.197738",
     "status": "completed"
    },
    "tags": []
   },
   "outputs": [],
   "source": [
    "model=LinearRegression()"
   ]
  },
  {
   "cell_type": "code",
   "execution_count": 18,
   "id": "33d8ca7d",
   "metadata": {
    "execution": {
     "iopub.execute_input": "2024-09-25T09:11:55.251076Z",
     "iopub.status.busy": "2024-09-25T09:11:55.250533Z",
     "iopub.status.idle": "2024-09-25T09:11:55.286567Z",
     "shell.execute_reply": "2024-09-25T09:11:55.285251Z"
    },
    "papermill": {
     "duration": 0.055089,
     "end_time": "2024-09-25T09:11:55.289674",
     "exception": false,
     "start_time": "2024-09-25T09:11:55.234585",
     "status": "completed"
    },
    "tags": []
   },
   "outputs": [
    {
     "data": {
      "text/html": [
       "<style>#sk-container-id-1 {color: black;background-color: white;}#sk-container-id-1 pre{padding: 0;}#sk-container-id-1 div.sk-toggleable {background-color: white;}#sk-container-id-1 label.sk-toggleable__label {cursor: pointer;display: block;width: 100%;margin-bottom: 0;padding: 0.3em;box-sizing: border-box;text-align: center;}#sk-container-id-1 label.sk-toggleable__label-arrow:before {content: \"▸\";float: left;margin-right: 0.25em;color: #696969;}#sk-container-id-1 label.sk-toggleable__label-arrow:hover:before {color: black;}#sk-container-id-1 div.sk-estimator:hover label.sk-toggleable__label-arrow:before {color: black;}#sk-container-id-1 div.sk-toggleable__content {max-height: 0;max-width: 0;overflow: hidden;text-align: left;background-color: #f0f8ff;}#sk-container-id-1 div.sk-toggleable__content pre {margin: 0.2em;color: black;border-radius: 0.25em;background-color: #f0f8ff;}#sk-container-id-1 input.sk-toggleable__control:checked~div.sk-toggleable__content {max-height: 200px;max-width: 100%;overflow: auto;}#sk-container-id-1 input.sk-toggleable__control:checked~label.sk-toggleable__label-arrow:before {content: \"▾\";}#sk-container-id-1 div.sk-estimator input.sk-toggleable__control:checked~label.sk-toggleable__label {background-color: #d4ebff;}#sk-container-id-1 div.sk-label input.sk-toggleable__control:checked~label.sk-toggleable__label {background-color: #d4ebff;}#sk-container-id-1 input.sk-hidden--visually {border: 0;clip: rect(1px 1px 1px 1px);clip: rect(1px, 1px, 1px, 1px);height: 1px;margin: -1px;overflow: hidden;padding: 0;position: absolute;width: 1px;}#sk-container-id-1 div.sk-estimator {font-family: monospace;background-color: #f0f8ff;border: 1px dotted black;border-radius: 0.25em;box-sizing: border-box;margin-bottom: 0.5em;}#sk-container-id-1 div.sk-estimator:hover {background-color: #d4ebff;}#sk-container-id-1 div.sk-parallel-item::after {content: \"\";width: 100%;border-bottom: 1px solid gray;flex-grow: 1;}#sk-container-id-1 div.sk-label:hover label.sk-toggleable__label {background-color: #d4ebff;}#sk-container-id-1 div.sk-serial::before {content: \"\";position: absolute;border-left: 1px solid gray;box-sizing: border-box;top: 0;bottom: 0;left: 50%;z-index: 0;}#sk-container-id-1 div.sk-serial {display: flex;flex-direction: column;align-items: center;background-color: white;padding-right: 0.2em;padding-left: 0.2em;position: relative;}#sk-container-id-1 div.sk-item {position: relative;z-index: 1;}#sk-container-id-1 div.sk-parallel {display: flex;align-items: stretch;justify-content: center;background-color: white;position: relative;}#sk-container-id-1 div.sk-item::before, #sk-container-id-1 div.sk-parallel-item::before {content: \"\";position: absolute;border-left: 1px solid gray;box-sizing: border-box;top: 0;bottom: 0;left: 50%;z-index: -1;}#sk-container-id-1 div.sk-parallel-item {display: flex;flex-direction: column;z-index: 1;position: relative;background-color: white;}#sk-container-id-1 div.sk-parallel-item:first-child::after {align-self: flex-end;width: 50%;}#sk-container-id-1 div.sk-parallel-item:last-child::after {align-self: flex-start;width: 50%;}#sk-container-id-1 div.sk-parallel-item:only-child::after {width: 0;}#sk-container-id-1 div.sk-dashed-wrapped {border: 1px dashed gray;margin: 0 0.4em 0.5em 0.4em;box-sizing: border-box;padding-bottom: 0.4em;background-color: white;}#sk-container-id-1 div.sk-label label {font-family: monospace;font-weight: bold;display: inline-block;line-height: 1.2em;}#sk-container-id-1 div.sk-label-container {text-align: center;}#sk-container-id-1 div.sk-container {/* jupyter's `normalize.less` sets `[hidden] { display: none; }` but bootstrap.min.css set `[hidden] { display: none !important; }` so we also need the `!important` here to be able to override the default hidden behavior on the sphinx rendered scikit-learn.org. See: https://github.com/scikit-learn/scikit-learn/issues/21755 */display: inline-block !important;position: relative;}#sk-container-id-1 div.sk-text-repr-fallback {display: none;}</style><div id=\"sk-container-id-1\" class=\"sk-top-container\"><div class=\"sk-text-repr-fallback\"><pre>LinearRegression()</pre><b>In a Jupyter environment, please rerun this cell to show the HTML representation or trust the notebook. <br />On GitHub, the HTML representation is unable to render, please try loading this page with nbviewer.org.</b></div><div class=\"sk-container\" hidden><div class=\"sk-item\"><div class=\"sk-estimator sk-toggleable\"><input class=\"sk-toggleable__control sk-hidden--visually\" id=\"sk-estimator-id-1\" type=\"checkbox\" checked><label for=\"sk-estimator-id-1\" class=\"sk-toggleable__label sk-toggleable__label-arrow\">LinearRegression</label><div class=\"sk-toggleable__content\"><pre>LinearRegression()</pre></div></div></div></div></div>"
      ],
      "text/plain": [
       "LinearRegression()"
      ]
     },
     "execution_count": 18,
     "metadata": {},
     "output_type": "execute_result"
    }
   ],
   "source": [
    "model.fit(x_train,y_train)"
   ]
  },
  {
   "cell_type": "code",
   "execution_count": 19,
   "id": "d2db7321",
   "metadata": {
    "execution": {
     "iopub.execute_input": "2024-09-25T09:11:55.319499Z",
     "iopub.status.busy": "2024-09-25T09:11:55.318983Z",
     "iopub.status.idle": "2024-09-25T09:11:55.328027Z",
     "shell.execute_reply": "2024-09-25T09:11:55.326525Z"
    },
    "papermill": {
     "duration": 0.027323,
     "end_time": "2024-09-25T09:11:55.331641",
     "exception": false,
     "start_time": "2024-09-25T09:11:55.304318",
     "status": "completed"
    },
    "tags": []
   },
   "outputs": [],
   "source": [
    "prediction=model.predict(x_train)\n"
   ]
  },
  {
   "cell_type": "code",
   "execution_count": 20,
   "id": "a3c7f0a9",
   "metadata": {
    "execution": {
     "iopub.execute_input": "2024-09-25T09:11:55.361655Z",
     "iopub.status.busy": "2024-09-25T09:11:55.361173Z",
     "iopub.status.idle": "2024-09-25T09:11:55.369209Z",
     "shell.execute_reply": "2024-09-25T09:11:55.367843Z"
    },
    "papermill": {
     "duration": 0.026982,
     "end_time": "2024-09-25T09:11:55.371771",
     "exception": false,
     "start_time": "2024-09-25T09:11:55.344789",
     "status": "completed"
    },
    "tags": []
   },
   "outputs": [
    {
     "name": "stdout",
     "output_type": "stream",
     "text": [
      "erroe: 0.8796483009370215\n"
     ]
    }
   ],
   "source": [
    "error=metrics.r2_score(y_train,prediction)\n",
    "print(\"erroe:\",error)"
   ]
  },
  {
   "cell_type": "code",
   "execution_count": 21,
   "id": "938b695d",
   "metadata": {
    "execution": {
     "iopub.execute_input": "2024-09-25T09:11:55.404586Z",
     "iopub.status.busy": "2024-09-25T09:11:55.402151Z",
     "iopub.status.idle": "2024-09-25T09:11:55.883686Z",
     "shell.execute_reply": "2024-09-25T09:11:55.882315Z"
    },
    "papermill": {
     "duration": 0.50062,
     "end_time": "2024-09-25T09:11:55.886662",
     "exception": false,
     "start_time": "2024-09-25T09:11:55.386042",
     "status": "completed"
    },
    "tags": []
   },
   "outputs": [
    {
     "data": {
      "image/png": "[encoded data removed]",
      "text/plain": [
       "<Figure size 640x480 with 1 Axes>"
      ]
     },
     "metadata": {},
     "output_type": "display_data"
    }
   ],
   "source": [
    "plt.scatter(y_train,prediction)\n",
    "plt.xlabel(\"Actual Price\")\n",
    "plt.ylabel(\"Predicted price\")\n",
    "plt.title(\"Actual prices vs Predicted Privces\")\n",
    "plt.show()"
   ]
  },
  {
   "cell_type": "code",
   "execution_count": 22,
   "id": "373ce29f",
   "metadata": {
    "execution": {
     "iopub.execute_input": "2024-09-25T09:11:55.917566Z",
     "iopub.status.busy": "2024-09-25T09:11:55.917126Z",
     "iopub.status.idle": "2024-09-25T09:11:55.925289Z",
     "shell.execute_reply": "2024-09-25T09:11:55.923965Z"
    },
    "papermill": {
     "duration": 0.029296,
     "end_time": "2024-09-25T09:11:55.929938",
     "exception": false,
     "start_time": "2024-09-25T09:11:55.900642",
     "status": "completed"
    },
    "tags": []
   },
   "outputs": [],
   "source": [
    "prediction=model.predict(x_test)"
   ]
  },
  {
   "cell_type": "code",
   "execution_count": 23,
   "id": "28681738",
   "metadata": {
    "execution": {
     "iopub.execute_input": "2024-09-25T09:11:55.964450Z",
     "iopub.status.busy": "2024-09-25T09:11:55.962410Z",
     "iopub.status.idle": "2024-09-25T09:11:55.972267Z",
     "shell.execute_reply": "2024-09-25T09:11:55.970764Z"
    },
    "papermill": {
     "duration": 0.030793,
     "end_time": "2024-09-25T09:11:55.975491",
     "exception": false,
     "start_time": "2024-09-25T09:11:55.944698",
     "status": "completed"
    },
    "tags": []
   },
   "outputs": [
    {
     "name": "stdout",
     "output_type": "stream",
     "text": [
      "error: 0.8365861023210703\n"
     ]
    }
   ],
   "source": [
    "error=metrics.r2_score(y_test,prediction)\n",
    "print(\"error:\",error)"
   ]
  },
  {
   "cell_type": "code",
   "execution_count": 24,
   "id": "d43256a3",
   "metadata": {
    "execution": {
     "iopub.execute_input": "2024-09-25T09:11:56.005468Z",
     "iopub.status.busy": "2024-09-25T09:11:56.004970Z",
     "iopub.status.idle": "2024-09-25T09:11:56.455160Z",
     "shell.execute_reply": "2024-09-25T09:11:56.453742Z"
    },
    "papermill": {
     "duration": 0.468841,
     "end_time": "2024-09-25T09:11:56.457976",
     "exception": false,
     "start_time": "2024-09-25T09:11:55.989135",
     "status": "completed"
    },
    "tags": []
   },
   "outputs": [
    {
     "data": {
      "image/png": "[encoded data removed]",
      "text/plain": [
       "<Figure size 640x480 with 1 Axes>"
      ]
     },
     "metadata": {},
     "output_type": "display_data"
    }
   ],
   "source": [
    "plt.scatter(y_test,prediction)\n",
    "plt.xlabel(\"Actual Price\")\n",
    "plt.ylabel(\"Predicted price\")\n",
    "plt.title(\"Actual prices vs Predicted Privces\")\n",
    "plt.show()"
   ]
  },
  {
   "cell_type": "code",
   "execution_count": 25,
   "id": "2c81cbd2",
   "metadata": {
    "execution": {
     "iopub.execute_input": "2024-09-25T09:11:56.491097Z",
     "iopub.status.busy": "2024-09-25T09:11:56.489855Z",
     "iopub.status.idle": "2024-09-25T09:11:56.496793Z",
     "shell.execute_reply": "2024-09-25T09:11:56.494997Z"
    },
    "papermill": {
     "duration": 0.027566,
     "end_time": "2024-09-25T09:11:56.500949",
     "exception": false,
     "start_time": "2024-09-25T09:11:56.473383",
     "status": "completed"
    },
    "tags": []
   },
   "outputs": [],
   "source": [
    "lasso_reg_model=Lasso()"
   ]
  },
  {
   "cell_type": "code",
   "execution_count": 26,
   "id": "cb6dff2f",
   "metadata": {
    "execution": {
     "iopub.execute_input": "2024-09-25T09:11:56.533117Z",
     "iopub.status.busy": "2024-09-25T09:11:56.532601Z",
     "iopub.status.idle": "2024-09-25T09:11:56.549794Z",
     "shell.execute_reply": "2024-09-25T09:11:56.548502Z"
    },
    "papermill": {
     "duration": 0.036859,
     "end_time": "2024-09-25T09:11:56.552710",
     "exception": false,
     "start_time": "2024-09-25T09:11:56.515851",
     "status": "completed"
    },
    "tags": []
   },
   "outputs": [
    {
     "data": {
      "text/html": [
       "<style>#sk-container-id-2 {color: black;background-color: white;}#sk-container-id-2 pre{padding: 0;}#sk-container-id-2 div.sk-toggleable {background-color: white;}#sk-container-id-2 label.sk-toggleable__label {cursor: pointer;display: block;width: 100%;margin-bottom: 0;padding: 0.3em;box-sizing: border-box;text-align: center;}#sk-container-id-2 label.sk-toggleable__label-arrow:before {content: \"▸\";float: left;margin-right: 0.25em;color: #696969;}#sk-container-id-2 label.sk-toggleable__label-arrow:hover:before {color: black;}#sk-container-id-2 div.sk-estimator:hover label.sk-toggleable__label-arrow:before {color: black;}#sk-container-id-2 div.sk-toggleable__content {max-height: 0;max-width: 0;overflow: hidden;text-align: left;background-color: #f0f8ff;}#sk-container-id-2 div.sk-toggleable__content pre {margin: 0.2em;color: black;border-radius: 0.25em;background-color: #f0f8ff;}#sk-container-id-2 input.sk-toggleable__control:checked~div.sk-toggleable__content {max-height: 200px;max-width: 100%;overflow: auto;}#sk-container-id-2 input.sk-toggleable__control:checked~label.sk-toggleable__label-arrow:before {content: \"▾\";}#sk-container-id-2 div.sk-estimator input.sk-toggleable__control:checked~label.sk-toggleable__label {background-color: #d4ebff;}#sk-container-id-2 div.sk-label input.sk-toggleable__control:checked~label.sk-toggleable__label {background-color: #d4ebff;}#sk-container-id-2 input.sk-hidden--visually {border: 0;clip: rect(1px 1px 1px 1px);clip: rect(1px, 1px, 1px, 1px);height: 1px;margin: -1px;overflow: hidden;padding: 0;position: absolute;width: 1px;}#sk-container-id-2 div.sk-estimator {font-family: monospace;background-color: #f0f8ff;border: 1px dotted black;border-radius: 0.25em;box-sizing: border-box;margin-bottom: 0.5em;}#sk-container-id-2 div.sk-estimator:hover {background-color: #d4ebff;}#sk-container-id-2 div.sk-parallel-item::after {content: \"\";width: 100%;border-bottom: 1px solid gray;flex-grow: 1;}#sk-container-id-2 div.sk-label:hover label.sk-toggleable__label {background-color: #d4ebff;}#sk-container-id-2 div.sk-serial::before {content: \"\";position: absolute;border-left: 1px solid gray;box-sizing: border-box;top: 0;bottom: 0;left: 50%;z-index: 0;}#sk-container-id-2 div.sk-serial {display: flex;flex-direction: column;align-items: center;background-color: white;padding-right: 0.2em;padding-left: 0.2em;position: relative;}#sk-container-id-2 div.sk-item {position: relative;z-index: 1;}#sk-container-id-2 div.sk-parallel {display: flex;align-items: stretch;justify-content: center;background-color: white;position: relative;}#sk-container-id-2 div.sk-item::before, #sk-container-id-2 div.sk-parallel-item::before {content: \"\";position: absolute;border-left: 1px solid gray;box-sizing: border-box;top: 0;bottom: 0;left: 50%;z-index: -1;}#sk-container-id-2 div.sk-parallel-item {display: flex;flex-direction: column;z-index: 1;position: relative;background-color: white;}#sk-container-id-2 div.sk-parallel-item:first-child::after {align-self: flex-end;width: 50%;}#sk-container-id-2 div.sk-parallel-item:last-child::after {align-self: flex-start;width: 50%;}#sk-container-id-2 div.sk-parallel-item:only-child::after {width: 0;}#sk-container-id-2 div.sk-dashed-wrapped {border: 1px dashed gray;margin: 0 0.4em 0.5em 0.4em;box-sizing: border-box;padding-bottom: 0.4em;background-color: white;}#sk-container-id-2 div.sk-label label {font-family: monospace;font-weight: bold;display: inline-block;line-height: 1.2em;}#sk-container-id-2 div.sk-label-container {text-align: center;}#sk-container-id-2 div.sk-container {/* jupyter's `normalize.less` sets `[hidden] { display: none; }` but bootstrap.min.css set `[hidden] { display: none !important; }` so we also need the `!important` here to be able to override the default hidden behavior on the sphinx rendered scikit-learn.org. See: https://github.com/scikit-learn/scikit-learn/issues/21755 */display: inline-block !important;position: relative;}#sk-container-id-2 div.sk-text-repr-fallback {display: none;}</style><div id=\"sk-container-id-2\" class=\"sk-top-container\"><div class=\"sk-text-repr-fallback\"><pre>Lasso()</pre><b>In a Jupyter environment, please rerun this cell to show the HTML representation or trust the notebook. <br />On GitHub, the HTML representation is unable to render, please try loading this page with nbviewer.org.</b></div><div class=\"sk-container\" hidden><div class=\"sk-item\"><div class=\"sk-estimator sk-toggleable\"><input class=\"sk-toggleable__control sk-hidden--visually\" id=\"sk-estimator-id-2\" type=\"checkbox\" checked><label for=\"sk-estimator-id-2\" class=\"sk-toggleable__label sk-toggleable__label-arrow\">Lasso</label><div class=\"sk-toggleable__content\"><pre>Lasso()</pre></div></div></div></div></div>"
      ],
      "text/plain": [
       "Lasso()"
      ]
     },
     "execution_count": 26,
     "metadata": {},
     "output_type": "execute_result"
    }
   ],
   "source": [
    "lasso_reg_model.fit(x_train,y_train)"
   ]
  },
  {
   "cell_type": "code",
   "execution_count": 27,
   "id": "5e83146a",
   "metadata": {
    "execution": {
     "iopub.execute_input": "2024-09-25T09:11:56.583988Z",
     "iopub.status.busy": "2024-09-25T09:11:56.583495Z",
     "iopub.status.idle": "2024-09-25T09:11:56.592293Z",
     "shell.execute_reply": "2024-09-25T09:11:56.590964Z"
    },
    "papermill": {
     "duration": 0.028304,
     "end_time": "2024-09-25T09:11:56.595511",
     "exception": false,
     "start_time": "2024-09-25T09:11:56.567207",
     "status": "completed"
    },
    "tags": []
   },
   "outputs": [],
   "source": [
    "lasso_prediction=lasso_reg_model.predict(x_train)"
   ]
  },
  {
   "cell_type": "code",
   "execution_count": 28,
   "id": "9752a08c",
   "metadata": {
    "execution": {
     "iopub.execute_input": "2024-09-25T09:11:56.633938Z",
     "iopub.status.busy": "2024-09-25T09:11:56.630958Z",
     "iopub.status.idle": "2024-09-25T09:11:56.643071Z",
     "shell.execute_reply": "2024-09-25T09:11:56.641510Z"
    },
    "papermill": {
     "duration": 0.033915,
     "end_time": "2024-09-25T09:11:56.646563",
     "exception": false,
     "start_time": "2024-09-25T09:11:56.612648",
     "status": "completed"
    },
    "tags": []
   },
   "outputs": [
    {
     "name": "stdout",
     "output_type": "stream",
     "text": [
      "error: 0.8424480718240743\n"
     ]
    }
   ],
   "source": [
    "error1=metrics.r2_score(y_train,lasso_prediction)\n",
    "print(\"error:\",error1)"
   ]
  },
  {
   "cell_type": "code",
   "execution_count": 29,
   "id": "c12d0b0c",
   "metadata": {
    "execution": {
     "iopub.execute_input": "2024-09-25T09:11:56.686937Z",
     "iopub.status.busy": "2024-09-25T09:11:56.686380Z",
     "iopub.status.idle": "2024-09-25T09:11:57.162782Z",
     "shell.execute_reply": "2024-09-25T09:11:57.161379Z"
    },
    "papermill": {
     "duration": 0.499644,
     "end_time": "2024-09-25T09:11:57.166378",
     "exception": false,
     "start_time": "2024-09-25T09:11:56.666734",
     "status": "completed"
    },
    "tags": []
   },
   "outputs": [
    {
     "data": {
      "image/png": "[encoded data removed]",
      "text/plain": [
       "<Figure size 640x480 with 1 Axes>"
      ]
     },
     "metadata": {},
     "output_type": "display_data"
    }
   ],
   "source": [
    "plt.scatter(y_train,lasso_prediction)\n",
    "plt.xlabel(\"Actual Price\")\n",
    "plt.ylabel(\"Predicted price\")\n",
    "plt.title(\"Actual prices vs Predicted Privces\")\n",
    "plt.show()"
   ]
  },
  {
   "cell_type": "code",
   "execution_count": 30,
   "id": "1769bcb1",
   "metadata": {
    "execution": {
     "iopub.execute_input": "2024-09-25T09:11:57.203150Z",
     "iopub.status.busy": "2024-09-25T09:11:57.202686Z",
     "iopub.status.idle": "2024-09-25T09:11:57.660221Z",
     "shell.execute_reply": "2024-09-25T09:11:57.658624Z"
    },
    "papermill": {
     "duration": 0.479606,
     "end_time": "2024-09-25T09:11:57.663248",
     "exception": false,
     "start_time": "2024-09-25T09:11:57.183642",
     "status": "completed"
    },
    "tags": []
   },
   "outputs": [
    {
     "name": "stdout",
     "output_type": "stream",
     "text": [
      "error: 0.8709763132343395\n"
     ]
    },
    {
     "data": {
      "image/png": "[encoded data removed]",
      "text/plain": [
       "<Figure size 640x480 with 1 Axes>"
      ]
     },
     "metadata": {},
     "output_type": "display_data"
    }
   ],
   "source": [
    "lasso_prediction=lasso_reg_model.predict(x_test)\n",
    "error1=metrics.r2_score(y_test,lasso_prediction)\n",
    "print(\"error:\",error1)\n",
    "plt.scatter(y_test,lasso_prediction)\n",
    "plt.xlabel(\"Actual Price\")\n",
    "plt.ylabel(\"Predicted price\")\n",
    "plt.title(\"Actual prices vs Predicted Privces\")\n",
    "plt.show()"
   ]
  }
 ],
 "metadata": {
  "kaggle": {
   "accelerator": "none",
   "dataSources": [
    {
     "datasetId": 2491159,
     "sourceId": 4226692,
     "sourceType": "datasetVersion"
    }
   ],
   "dockerImageVersionId": 30761,
   "isGpuEnabled": false,
   "isInternetEnabled": true,
   "language": "python",
   "sourceType": "notebook"
  },
  "kernelspec": {
   "display_name": "Python 3",
   "language": "python",
   "name": "python3"
  },
  "language_info": {
   "codemirror_mode": {
    "name": "ipython",
    "version": 3
   },
   "file_extension": ".py",
   "mimetype": "text/x-python",
   "name": "python",
   "nbconvert_exporter": "python",
   "pygments_lexer": "ipython3",
   "version": "3.10.14"
  },
  "papermill": {
   "default_parameters": {},
   "duration": 11.725092,
   "end_time": "2024-09-25T09:11:58.404519",
   "environment_variables": {},
   "exception": null,
   "input_path": "__notebook__.ipynb",
   "output_path": "__notebook__.ipynb",
   "parameters": {},
   "start_time": "2024-09-25T09:11:46.679427",
   "version": "2.6.0"
  }
 },
 "nbformat": 4,
 "nbformat_minor": 5
}
